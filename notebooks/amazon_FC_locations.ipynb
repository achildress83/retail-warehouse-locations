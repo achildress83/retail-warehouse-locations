{
 "cells": [
  {
   "cell_type": "code",
   "execution_count": 1,
   "metadata": {},
   "outputs": [],
   "source": [
    "import numpy as np\n",
    "import pandas as pd\n",
    "import matplotlib.pyplot as plt\n",
    "%matplotlib inline\n",
    "import seaborn as sns\n",
    "from bs4 import BeautifulSoup\n",
    "import requests\n",
    "from scipy import stats"
   ]
  },
  {
   "cell_type": "markdown",
   "metadata": {},
   "source": [
    "## Create Dataframe of warehouse locations\n",
    "### Scrape warehouse location data from selleressentials.com"
   ]
  },
  {
   "cell_type": "code",
   "execution_count": 2,
   "metadata": {},
   "outputs": [],
   "source": [
    "page = requests.get('https://selleressentials.com/amazon/amazon-fulfillment-center-locations/') # Make a get request to retrieve the page\n",
    "soup = BeautifulSoup(page.content, 'html.parser') # Pass the page contents to beautiful soup for parsing"
   ]
  },
  {
   "cell_type": "markdown",
   "metadata": {},
   "source": [
    "### Retrieve data from one tag"
   ]
  },
  {
   "cell_type": "code",
   "execution_count": 73,
   "metadata": {},
   "outputs": [
    {
     "data": {
      "text/plain": [
       "<tr class=\"ninja_table_row_0 nt_row_id_53\" data-row_id=\"53\">\n",
       "<td>Arizona</td><td>PHX3</td><td>FC</td><td>6835 W. Buckeye Rd. Phoenix, AZ, 85043</td> </tr>"
      ]
     },
     "execution_count": 73,
     "metadata": {},
     "output_type": "execute_result"
    }
   ],
   "source": [
    "tag = soup.find('tr', class_=f\"ninja_table_row_{0} nt_row_id_{53}\")\n",
    "tag"
   ]
  },
  {
   "cell_type": "code",
   "execution_count": 56,
   "metadata": {},
   "outputs": [
    {
     "data": {
      "text/plain": [
       "[<td>Arizona</td>,\n",
       " <td>PHX3</td>,\n",
       " <td>FC</td>,\n",
       " <td>6835 W. Buckeye Rd. Phoenix, AZ, 85043</td>]"
      ]
     },
     "execution_count": 56,
     "metadata": {},
     "output_type": "execute_result"
    }
   ],
   "source": [
    "sub = tag.find_all('td')\n",
    "sub"
   ]
  },
  {
   "cell_type": "code",
   "execution_count": 5,
   "metadata": {},
   "outputs": [
    {
     "data": {
      "text/plain": [
       "['Arizona', 'PHX3', 'FC', '6835 W. Buckeye Rd. Phoenix, AZ, 85043']"
      ]
     },
     "execution_count": 5,
     "metadata": {},
     "output_type": "execute_result"
    }
   ],
   "source": [
    "item = [i.string for i in sub]\n",
    "item"
   ]
  },
  {
   "cell_type": "code",
   "execution_count": 6,
   "metadata": {},
   "outputs": [
    {
     "data": {
      "text/plain": [
       "['6835', 'W.', 'Buckeye', 'Rd.', 'Phoenix,', 'AZ,', '85043']"
      ]
     },
     "execution_count": 6,
     "metadata": {},
     "output_type": "execute_result"
    }
   ],
   "source": [
    "address = item[-1].split(' ')\n",
    "address"
   ]
  },
  {
   "cell_type": "code",
   "execution_count": 16,
   "metadata": {},
   "outputs": [
    {
     "data": {
      "text/plain": [
       "'Phoenix'"
      ]
     },
     "execution_count": 16,
     "metadata": {},
     "output_type": "execute_result"
    }
   ],
   "source": [
    "# city = address[0].split()[-1]\n",
    "# city"
   ]
  },
  {
   "cell_type": "code",
   "execution_count": 7,
   "metadata": {},
   "outputs": [
    {
     "data": {
      "text/plain": [
       "'AZ'"
      ]
     },
     "execution_count": 7,
     "metadata": {},
     "output_type": "execute_result"
    }
   ],
   "source": [
    "state = address[-2][:2]\n",
    "state"
   ]
  },
  {
   "cell_type": "code",
   "execution_count": 7,
   "metadata": {},
   "outputs": [
    {
     "name": "stdout",
     "output_type": "stream",
     "text": [
      "Requirement already satisfied: geopy in c:\\users\\achil\\anaconda3\\envs\\learn-env\\lib\\site-packages (1.20.0)\n",
      "Requirement already satisfied: geographiclib<2,>=1.49 in c:\\users\\achil\\anaconda3\\envs\\learn-env\\lib\\site-packages (from geopy) (1.50)\n",
      "Note: you may need to restart the kernel to use updated packages.\n"
     ]
    }
   ],
   "source": [
    "# pip install geopy"
   ]
  },
  {
   "cell_type": "code",
   "execution_count": 2,
   "metadata": {},
   "outputs": [],
   "source": [
    "from geopy.geocoders import Nominatim"
   ]
  },
  {
   "cell_type": "code",
   "execution_count": 3,
   "metadata": {},
   "outputs": [],
   "source": [
    "geolocator = Nominatim(user_agent=\"project\") #have to specify an app name"
   ]
  },
  {
   "cell_type": "code",
   "execution_count": 10,
   "metadata": {},
   "outputs": [],
   "source": [
    "location = geolocator.geocode(item[-1])"
   ]
  },
  {
   "cell_type": "code",
   "execution_count": 11,
   "metadata": {},
   "outputs": [
    {
     "data": {
      "text/plain": [
       "(33.43332425, -112.20779650534851)"
      ]
     },
     "execution_count": 11,
     "metadata": {},
     "output_type": "execute_result"
    }
   ],
   "source": [
    "coordinates = (location.latitude, location.longitude)\n",
    "coordinates"
   ]
  },
  {
   "cell_type": "code",
   "execution_count": 13,
   "metadata": {},
   "outputs": [
    {
     "data": {
      "text/plain": [
       "{'code': 'PHX3',\n",
       " 'type': 'FC',\n",
       " 'coord': (33.43332425, -112.20779650534851),\n",
       " 'state': 'AZ',\n",
       " 'zip': '85043'}"
      ]
     },
     "execution_count": 13,
     "metadata": {},
     "output_type": "execute_result"
    }
   ],
   "source": [
    "row = {'code': item[1], 'type': item[2], 'coord': coordinates, 'state': state, 'zip': address[-1][:5].strip()}\n",
    "row"
   ]
  },
  {
   "cell_type": "markdown",
   "metadata": {},
   "source": [
    "### Retrieve data from all tags"
   ]
  },
  {
   "cell_type": "code",
   "execution_count": 65,
   "metadata": {},
   "outputs": [],
   "source": [
    "# the source data table was very messy with intermittent advertisements, non-sequential numbering, and variant address formatting\n",
    "# the below function loops through the table, retrieving all possible records in 'records' \n",
    "# and storing tags that returned an error in 'manual' for further cleaning\n",
    "\n",
    "def scrape_records(index1, index2): #lists of index positions from <tr> tags\n",
    "    indices = list(zip(index1,index2))\n",
    "\n",
    "    records=[]\n",
    "    manual=[]\n",
    "    for i,j in indices:\n",
    "        tag = soup.find('tr', class_=f\"ninja_table_row_{i} nt_row_id_{j}\") \n",
    "        sub = tag.find_all('td')\n",
    "        try:\n",
    "            item = sub[-1].string.strip()\n",
    "            location = geolocator.geocode(item)\n",
    "            coordinates = (location.latitude, location.longitude)\n",
    "        except:\n",
    "            manual.append(f\"ninja_table_row_{i} nt_row_id_{j}\")\n",
    "            continue\n",
    "\n",
    "        row = {'coord': coordinates}\n",
    "        records.append(row)\n",
    "        \n",
    "    return records, manual"
   ]
  },
  {
   "cell_type": "code",
   "execution_count": 66,
   "metadata": {},
   "outputs": [],
   "source": [
    "# Arizona \n",
    "az_index1 = list(range(6))\n",
    "az_index2 = list(range(53,59))\n",
    "az_records, az_manual = scrape_records(az_index1, az_index2)"
   ]
  },
  {
   "cell_type": "code",
   "execution_count": 67,
   "metadata": {},
   "outputs": [
    {
     "data": {
      "text/plain": [
       "([{'coord': (33.43332425, -112.20779650534851)},\n",
       "  {'coord': (33.4121962, -112.4219375681358)},\n",
       "  {'coord': (33.43119215503821, -112.15656929556613)},\n",
       "  {'coord': (33.4485194, -112.2211793)},\n",
       "  {'coord': (33.431179952419065, -112.15949317869877)},\n",
       "  {'coord': (33.441741658291456, -112.22957998492463)}],\n",
       " [])"
      ]
     },
     "execution_count": 67,
     "metadata": {},
     "output_type": "execute_result"
    }
   ],
   "source": [
    "az_records, az_manual"
   ]
  },
  {
   "cell_type": "code",
   "execution_count": 68,
   "metadata": {},
   "outputs": [],
   "source": [
    "\n",
    "# California \n",
    "ca_index1 = list(range(7,29)) \n",
    "ca_index2 = [60,61,62,64,65,66,67,68,69,70,71,72,73,74,75,76,261,262,263,77,78,79]\n",
    "ca_records, ca_manual = scrape_records(ca_index1, ca_index2)"
   ]
  },
  {
   "cell_type": "code",
   "execution_count": 69,
   "metadata": {},
   "outputs": [
    {
     "data": {
      "text/plain": [
       "([{'coord': (34.12841087755102, -117.42259173469388)},\n",
       "  {'coord': (34.079646, -117.27532067336683)},\n",
       "  {'coord': (37.7348257, -121.5314846)},\n",
       "  {'coord': (34.0775633, -117.2330161)},\n",
       "  {'coord': (37.4700601, -121.164331)},\n",
       "  {'coord': (37.7430048, -121.4047365)},\n",
       "  {'coord': (37.52274876484464, -122.0143879172679)},\n",
       "  {'coord': (37.9166607, -121.25040435)},\n",
       "  {'coord': (34.0814685, -117.201434)},\n",
       "  {'coord': (33.8813784, -117.2944786)},\n",
       "  {'coord': (34.079646, -117.27532067336683)},\n",
       "  {'coord': (34.079646, -117.27532067336683)},\n",
       "  {'coord': (37.52274876484464, -122.0143879172679)},\n",
       "  {'coord': (33.86658169789471, -117.23708735289637)},\n",
       "  {'coord': (34.127027585582134, -117.40116311524525)}],\n",
       " ['ninja_table_row_8 nt_row_id_61',\n",
       "  'ninja_table_row_10 nt_row_id_64',\n",
       "  'ninja_table_row_12 nt_row_id_66',\n",
       "  'ninja_table_row_13 nt_row_id_67',\n",
       "  'ninja_table_row_19 nt_row_id_73',\n",
       "  'ninja_table_row_22 nt_row_id_76',\n",
       "  'ninja_table_row_25 nt_row_id_263'])"
      ]
     },
     "execution_count": 69,
     "metadata": {},
     "output_type": "execute_result"
    }
   ],
   "source": [
    "ca_records, ca_manual"
   ]
  },
  {
   "cell_type": "code",
   "execution_count": 71,
   "metadata": {},
   "outputs": [],
   "source": [
    "#Colorado,Conneticut\n",
    "cc_index1 = list(range(36,42))\n",
    "cc_index2 = list(range(80,86)) + [239]\n",
    "cc_records, cc_manual = scrape_records(cc_index1, cc_index2)"
   ]
  },
  {
   "cell_type": "code",
   "execution_count": 72,
   "metadata": {},
   "outputs": [
    {
     "data": {
      "text/plain": [
       "([{'coord': (39.76768665, -104.7557950513125)},\n",
       "  {'coord': (39.743461514279375, -104.71318452955254)},\n",
       "  {'coord': (39.794520500000004, -104.98104795)},\n",
       "  {'coord': (41.876107, -72.694975)},\n",
       "  {'coord': (41.4868071, -72.7630022)},\n",
       "  {'coord': (41.40718813037837, -72.84521501106487)}],\n",
       " [])"
      ]
     },
     "execution_count": 72,
     "metadata": {},
     "output_type": "execute_result"
    }
   ],
   "source": [
    "cc_records, cc_manual"
   ]
  },
  {
   "cell_type": "code",
   "execution_count": 76,
   "metadata": {},
   "outputs": [],
   "source": [
    "#Delaware\n",
    "de_index1 = list(range(43,47))\n",
    "de_index2 = list(range(86,90))\n",
    "de_records, de_manual = scrape_records(de_index1, de_index2)"
   ]
  },
  {
   "cell_type": "code",
   "execution_count": 77,
   "metadata": {},
   "outputs": [
    {
     "data": {
      "text/plain": [
       "([{'coord': (39.662698, -75.588325)},\n",
       "  {'coord': (39.66211066347132, -75.58776128275659)},\n",
       "  {'coord': (39.4434528, -75.7390241)},\n",
       "  {'coord': (39.4559445, -75.7187088)}],\n",
       " [])"
      ]
     },
     "execution_count": 77,
     "metadata": {},
     "output_type": "execute_result"
    }
   ],
   "source": [
    "de_records, de_manual"
   ]
  },
  {
   "cell_type": "code",
   "execution_count": 78,
   "metadata": {},
   "outputs": [],
   "source": [
    "#Florida-Indiana\n",
    "fi_index1 = list(range(50,82))\n",
    "fi_index2 = list(range(90,119)) + [264,265,119]\n",
    "fi_records, fi_manual = scrape_records(fi_index1, fi_index2)"
   ]
  },
  {
   "cell_type": "code",
   "execution_count": 79,
   "metadata": {},
   "outputs": [
    {
     "data": {
      "text/plain": [
       "([{'coord': (27.724197443460195, -82.39275260266557)},\n",
       "  {'coord': (28.020405465339724, -82.05553738019398)},\n",
       "  {'coord': (28.020405465339724, -82.05553738019398)},\n",
       "  {'coord': (30.465323599999998, -81.68029390000001)},\n",
       "  {'coord': (30.3821120009228, -81.78788431182106)},\n",
       "  {'coord': (33.7962248, -84.640658)},\n",
       "  {'coord': (33.568814829853416, -84.53943522521547)},\n",
       "  {'coord': (34.10540731891049, -83.77667531855853)},\n",
       "  {'coord': (41.4808934, -88.0759124)},\n",
       "  {'coord': (41.4855423, -88.0694809)},\n",
       "  {'coord': (41.67406883333334, -88.11770666666666)},\n",
       "  {'coord': (38.77187085, -90.04064684767636)},\n",
       "  {'coord': (38.7973679, -90.0763783)},\n",
       "  {'coord': (38.7973679, -90.0763783)},\n",
       "  {'coord': (41.42675514657619, -87.77108285445104)},\n",
       "  {'coord': (41.815004349999995, -88.21276520465292)},\n",
       "  {'coord': (39.70837085714286, -86.34626871428571)},\n",
       "  {'coord': (39.70838540816327, -86.34626895918367)},\n",
       "  {'coord': (39.75455704597701, -86.28910116091954)},\n",
       "  {'coord': (38.37880535, -85.6868243)}],\n",
       " ['ninja_table_row_53 nt_row_id_93',\n",
       "  'ninja_table_row_54 nt_row_id_94',\n",
       "  'ninja_table_row_56 nt_row_id_96',\n",
       "  'ninja_table_row_58 nt_row_id_98',\n",
       "  'ninja_table_row_62 nt_row_id_102',\n",
       "  'ninja_table_row_70 nt_row_id_110',\n",
       "  'ninja_table_row_72 nt_row_id_112',\n",
       "  'ninja_table_row_73 nt_row_id_113',\n",
       "  'ninja_table_row_74 nt_row_id_114',\n",
       "  'ninja_table_row_78 nt_row_id_118',\n",
       "  'ninja_table_row_79 nt_row_id_264',\n",
       "  'ninja_table_row_80 nt_row_id_265'])"
      ]
     },
     "execution_count": 79,
     "metadata": {},
     "output_type": "execute_result"
    }
   ],
   "source": [
    "fi_records, fi_manual"
   ]
  },
  {
   "cell_type": "code",
   "execution_count": 80,
   "metadata": {},
   "outputs": [],
   "source": [
    "#Kansas-Michigan\n",
    "km_index1 = list(range(83,109))\n",
    "km_index2 = [266] + list(range(120,145))\n",
    "km_records, km_manual = scrape_records(km_index1, km_index2)"
   ]
  },
  {
   "cell_type": "code",
   "execution_count": 81,
   "metadata": {},
   "outputs": [
    {
     "data": {
      "text/plain": [
       "([{'coord': (38.92240213439838, -94.78181316565949)},\n",
       "  {'coord': (39.102365, -94.73927226530611)},\n",
       "  {'coord': (37.32801126608095, -85.35168765525495)},\n",
       "  {'coord': (38.1951343, -85.69271712333497)},\n",
       "  {'coord': (39.0846526, -84.71347803083603)},\n",
       "  {'coord': (39.0849526, -84.7149241)},\n",
       "  {'coord': (39.0600057171595, -84.71357387388001)},\n",
       "  {'coord': (38.0778404, -84.5331091)},\n",
       "  {'coord': (38.07406747086827, -84.54651541547122)},\n",
       "  {'coord': (37.978102, -85.683543)},\n",
       "  {'coord': (37.9638046, -85.6758038)},\n",
       "  {'coord': (39.267657549999996, -76.54904529607478)},\n",
       "  {'coord': (39.271657, -76.552755)},\n",
       "  {'coord': (39.27036459999999, -76.54803544883359)},\n",
       "  {'coord': (39.5897876, -76.0047591)},\n",
       "  {'coord': (41.7621205, -71.100137874562)},\n",
       "  {'coord': (42.37434320175948, -83.42885569671779)},\n",
       "  {'coord': (42.37434320175948, -83.42885569671779)}],\n",
       " ['ninja_table_row_83 nt_row_id_266',\n",
       "  'ninja_table_row_84 nt_row_id_120',\n",
       "  'ninja_table_row_87 nt_row_id_123',\n",
       "  'ninja_table_row_93 nt_row_id_129',\n",
       "  'ninja_table_row_96 nt_row_id_132',\n",
       "  'ninja_table_row_99 nt_row_id_135',\n",
       "  'ninja_table_row_104 nt_row_id_140',\n",
       "  'ninja_table_row_106 nt_row_id_142'])"
      ]
     },
     "execution_count": 81,
     "metadata": {},
     "output_type": "execute_result"
    }
   ],
   "source": [
    "km_records, km_manual"
   ]
  },
  {
   "cell_type": "code",
   "execution_count": 82,
   "metadata": {},
   "outputs": [],
   "source": [
    "#Minnesota-New Jersey\n",
    "mn_index1 = [111,112] + list(range(114,120)) + list(range(121,135))\n",
    "mn_index2 = [145,146] + list(range(147,153)) + list(range(153,167))\n",
    "mn_records, mn_manual = scrape_records(mn_index1, mn_index2)"
   ]
  },
  {
   "cell_type": "code",
   "execution_count": 83,
   "metadata": {},
   "outputs": [
    {
     "data": {
      "text/plain": [
       "([{'coord': (44.80059945, -93.48865500885567)},\n",
       "  {'coord': (44.78839255, -93.44285005008032)},\n",
       "  {'coord': (39.600859615371554, -119.84574717831151)},\n",
       "  {'coord': (42.7919779, -71.5294631)},\n",
       "  {'coord': (40.56934732377457, -74.22058659986419)},\n",
       "  {'coord': (40.56934732377457, -74.22058659986419)},\n",
       "  {'coord': (40.096959, -74.792309)},\n",
       "  {'coord': (40.86323053367198, -74.0603383184325)}],\n",
       " ['ninja_table_row_115 nt_row_id_148',\n",
       "  'ninja_table_row_116 nt_row_id_149',\n",
       "  'ninja_table_row_117 nt_row_id_150',\n",
       "  'ninja_table_row_118 nt_row_id_151',\n",
       "  'ninja_table_row_121 nt_row_id_153',\n",
       "  'ninja_table_row_122 nt_row_id_154',\n",
       "  'ninja_table_row_123 nt_row_id_155',\n",
       "  'ninja_table_row_124 nt_row_id_156',\n",
       "  'ninja_table_row_125 nt_row_id_157',\n",
       "  'ninja_table_row_126 nt_row_id_158',\n",
       "  'ninja_table_row_129 nt_row_id_161',\n",
       "  'ninja_table_row_130 nt_row_id_162',\n",
       "  'ninja_table_row_131 nt_row_id_163',\n",
       "  'ninja_table_row_132 nt_row_id_164'])"
      ]
     },
     "execution_count": 83,
     "metadata": {},
     "output_type": "execute_result"
    }
   ],
   "source": [
    "mn_records, mn_manual"
   ]
  },
  {
   "cell_type": "code",
   "execution_count": 84,
   "metadata": {},
   "outputs": [],
   "source": [
    "#New York-Texas\n",
    "nt_index1 = [136,138,139,140,141,143,144,145,149] + list(range(154,195))\n",
    "nt_index2 = list(range(167,217))\n",
    "nt_records, nt_manual = scrape_records(nt_index1, nt_index2)"
   ]
  },
  {
   "cell_type": "code",
   "execution_count": 85,
   "metadata": {},
   "outputs": [
    {
     "data": {
      "text/plain": [
       "([{'coord': (42.923611, -78.622055)},\n",
       "  {'coord': (35.389794251124016, -80.71889678215366)},\n",
       "  {'coord': (35.389794251124016, -80.71889678215366)},\n",
       "  {'coord': (35.24221934771131, -80.99737261815821)},\n",
       "  {'coord': (41.30542925, -81.4657302754815)},\n",
       "  {'coord': (39.95681116305533, -82.71457050974392)},\n",
       "  {'coord': (39.843697, -82.933829)},\n",
       "  {'coord': (45.55850289999999, -122.91967872516132)},\n",
       "  {'coord': (40.923723332947645, -76.08056768674362)},\n",
       "  {'coord': (40.3750622, -76.6446661)},\n",
       "  {'coord': (40.1886535, -77.2401812)},\n",
       "  {'coord': (40.44260879509591, -80.08352276997047)},\n",
       "  {'coord': (40.18896193584097, -77.23878476055881)},\n",
       "  {'coord': (40.44260879509591, -80.08352276997047)},\n",
       "  {'coord': (35.00827065, -82.03562155725744)},\n",
       "  {'coord': (36.13339792612313, -86.40711361516522)},\n",
       "  {'coord': (36.1274658, -86.4050146)},\n",
       "  {'coord': (35.7800275, -86.3614113)},\n",
       "  {'coord': (36.128425, -86.693565)},\n",
       "  {'coord': (35.0708247, -85.1433617)},\n",
       "  {'coord': (32.95804715, -97.01703732496823)},\n",
       "  {'coord': (32.9723646, -97.3128855)},\n",
       "  {'coord': (33.001592, -97.297511)},\n",
       "  {'coord': (33.001592, -97.297511)},\n",
       "  {'coord': (29.42087965, -98.59825475)},\n",
       "  {'coord': (32.81828025, -97.04287285)},\n",
       "  {'coord': (30.0015811, -95.2748393)},\n",
       "  {'coord': (32.95804715, -97.01703732496823)},\n",
       "  {'coord': (32.9695805, -97.0013353)},\n",
       "  {'coord': (32.6324999, -96.77362813581769)},\n",
       "  {'coord': (29.8336623, -97.9655261)}],\n",
       " ['ninja_table_row_140 nt_row_id_170',\n",
       "  'ninja_table_row_155 nt_row_id_177',\n",
       "  'ninja_table_row_156 nt_row_id_178',\n",
       "  'ninja_table_row_157 nt_row_id_179',\n",
       "  'ninja_table_row_158 nt_row_id_180',\n",
       "  'ninja_table_row_159 nt_row_id_181',\n",
       "  'ninja_table_row_161 nt_row_id_183',\n",
       "  'ninja_table_row_162 nt_row_id_184',\n",
       "  'ninja_table_row_163 nt_row_id_185',\n",
       "  'ninja_table_row_167 nt_row_id_189',\n",
       "  'ninja_table_row_168 nt_row_id_190',\n",
       "  'ninja_table_row_169 nt_row_id_191',\n",
       "  'ninja_table_row_171 nt_row_id_193',\n",
       "  'ninja_table_row_178 nt_row_id_200',\n",
       "  'ninja_table_row_179 nt_row_id_201',\n",
       "  'ninja_table_row_180 nt_row_id_202',\n",
       "  'ninja_table_row_185 nt_row_id_207',\n",
       "  'ninja_table_row_193 nt_row_id_215',\n",
       "  'ninja_table_row_194 nt_row_id_216'])"
      ]
     },
     "execution_count": 85,
     "metadata": {},
     "output_type": "execute_result"
    }
   ],
   "source": [
    "nt_records, nt_manual"
   ]
  },
  {
   "cell_type": "code",
   "execution_count": 87,
   "metadata": {},
   "outputs": [],
   "source": [
    "#Virginia-Wisconsin\n",
    "vw_index1 = list(range(198,214))\n",
    "vw_index2 = [217,218,219,268] + list(range(220,232))\n",
    "vw_records, vw_manual = scrape_records(vw_index1, vw_index2)"
   ]
  },
  {
   "cell_type": "code",
   "execution_count": 88,
   "metadata": {},
   "outputs": [
    {
     "data": {
      "text/plain": [
       "([{'coord': (37.19469625, -77.49304279260181)},\n",
       "  {'coord': (47.62070071812081, -122.17512845637584)},\n",
       "  {'coord': (47.24100835, -122.24329237781214)},\n",
       "  {'coord': (47.41449595, -122.25778195000001)},\n",
       "  {'coord': (42.6037382, -87.9101178)},\n",
       "  {'coord': (42.606909849999994, -87.94814344844625)}],\n",
       " ['ninja_table_row_199 nt_row_id_218',\n",
       "  'ninja_table_row_200 nt_row_id_219',\n",
       "  'ninja_table_row_201 nt_row_id_268',\n",
       "  'ninja_table_row_202 nt_row_id_220',\n",
       "  'ninja_table_row_203 nt_row_id_221',\n",
       "  'ninja_table_row_204 nt_row_id_222',\n",
       "  'ninja_table_row_205 nt_row_id_223',\n",
       "  'ninja_table_row_206 nt_row_id_224',\n",
       "  'ninja_table_row_207 nt_row_id_225',\n",
       "  'ninja_table_row_208 nt_row_id_226'])"
      ]
     },
     "execution_count": 88,
     "metadata": {},
     "output_type": "execute_result"
    }
   ],
   "source": [
    "vw_records, vw_manual"
   ]
  },
  {
   "cell_type": "code",
   "execution_count": 114,
   "metadata": {},
   "outputs": [
    {
     "data": {
      "text/plain": [
       "['ninja_table_row_8 nt_row_id_61',\n",
       " 'ninja_table_row_10 nt_row_id_64',\n",
       " 'ninja_table_row_12 nt_row_id_66',\n",
       " 'ninja_table_row_13 nt_row_id_67',\n",
       " 'ninja_table_row_19 nt_row_id_73',\n",
       " 'ninja_table_row_22 nt_row_id_76',\n",
       " 'ninja_table_row_25 nt_row_id_263',\n",
       " 'ninja_table_row_53 nt_row_id_93',\n",
       " 'ninja_table_row_54 nt_row_id_94',\n",
       " 'ninja_table_row_56 nt_row_id_96',\n",
       " 'ninja_table_row_58 nt_row_id_98',\n",
       " 'ninja_table_row_62 nt_row_id_102',\n",
       " 'ninja_table_row_70 nt_row_id_110',\n",
       " 'ninja_table_row_72 nt_row_id_112',\n",
       " 'ninja_table_row_73 nt_row_id_113',\n",
       " 'ninja_table_row_74 nt_row_id_114',\n",
       " 'ninja_table_row_78 nt_row_id_118',\n",
       " 'ninja_table_row_79 nt_row_id_264',\n",
       " 'ninja_table_row_80 nt_row_id_265',\n",
       " 'ninja_table_row_83 nt_row_id_266',\n",
       " 'ninja_table_row_84 nt_row_id_120',\n",
       " 'ninja_table_row_87 nt_row_id_123',\n",
       " 'ninja_table_row_93 nt_row_id_129',\n",
       " 'ninja_table_row_96 nt_row_id_132',\n",
       " 'ninja_table_row_99 nt_row_id_135',\n",
       " 'ninja_table_row_104 nt_row_id_140',\n",
       " 'ninja_table_row_106 nt_row_id_142',\n",
       " 'ninja_table_row_115 nt_row_id_148',\n",
       " 'ninja_table_row_116 nt_row_id_149',\n",
       " 'ninja_table_row_117 nt_row_id_150',\n",
       " 'ninja_table_row_118 nt_row_id_151',\n",
       " 'ninja_table_row_121 nt_row_id_153',\n",
       " 'ninja_table_row_122 nt_row_id_154',\n",
       " 'ninja_table_row_123 nt_row_id_155',\n",
       " 'ninja_table_row_124 nt_row_id_156',\n",
       " 'ninja_table_row_125 nt_row_id_157',\n",
       " 'ninja_table_row_126 nt_row_id_158',\n",
       " 'ninja_table_row_129 nt_row_id_161',\n",
       " 'ninja_table_row_130 nt_row_id_162',\n",
       " 'ninja_table_row_131 nt_row_id_163',\n",
       " 'ninja_table_row_132 nt_row_id_164',\n",
       " 'ninja_table_row_140 nt_row_id_170',\n",
       " 'ninja_table_row_155 nt_row_id_177',\n",
       " 'ninja_table_row_156 nt_row_id_178',\n",
       " 'ninja_table_row_157 nt_row_id_179',\n",
       " 'ninja_table_row_158 nt_row_id_180',\n",
       " 'ninja_table_row_159 nt_row_id_181',\n",
       " 'ninja_table_row_161 nt_row_id_183',\n",
       " 'ninja_table_row_162 nt_row_id_184',\n",
       " 'ninja_table_row_163 nt_row_id_185',\n",
       " 'ninja_table_row_167 nt_row_id_189',\n",
       " 'ninja_table_row_168 nt_row_id_190',\n",
       " 'ninja_table_row_169 nt_row_id_191',\n",
       " 'ninja_table_row_171 nt_row_id_193',\n",
       " 'ninja_table_row_178 nt_row_id_200',\n",
       " 'ninja_table_row_179 nt_row_id_201',\n",
       " 'ninja_table_row_180 nt_row_id_202',\n",
       " 'ninja_table_row_185 nt_row_id_207',\n",
       " 'ninja_table_row_193 nt_row_id_215',\n",
       " 'ninja_table_row_194 nt_row_id_216',\n",
       " 'ninja_table_row_199 nt_row_id_218',\n",
       " 'ninja_table_row_200 nt_row_id_219',\n",
       " 'ninja_table_row_201 nt_row_id_268',\n",
       " 'ninja_table_row_202 nt_row_id_220',\n",
       " 'ninja_table_row_203 nt_row_id_221',\n",
       " 'ninja_table_row_204 nt_row_id_222',\n",
       " 'ninja_table_row_205 nt_row_id_223',\n",
       " 'ninja_table_row_206 nt_row_id_224',\n",
       " 'ninja_table_row_207 nt_row_id_225',\n",
       " 'ninja_table_row_208 nt_row_id_226']"
      ]
     },
     "execution_count": 114,
     "metadata": {},
     "output_type": "execute_result"
    }
   ],
   "source": [
    "#Create aggregate list of the tags that returned an error\n",
    "manual = ca_manual + fi_manual + km_manual + mn_manual + nt_manual + vw_manual\n",
    "len(manual)\n",
    "manual"
   ]
  },
  {
   "cell_type": "code",
   "execution_count": 107,
   "metadata": {},
   "outputs": [],
   "source": [
    "# check formatting issues\n",
    "t=soup.find('tr', class_=manual[2])"
   ]
  },
  {
   "cell_type": "code",
   "execution_count": 116,
   "metadata": {},
   "outputs": [
    {
     "data": {
      "text/plain": [
       "'2020 E Central Avenue, Southgate Building 4, San Bernardino, CA 92408-2606\\t'"
      ]
     },
     "execution_count": 116,
     "metadata": {},
     "output_type": "execute_result"
    }
   ],
   "source": [
    "t.find_all('td')[-1].get_text()"
   ]
  },
  {
   "cell_type": "code",
   "execution_count": 126,
   "metadata": {},
   "outputs": [],
   "source": [
    "# get addresses from tags and fix formatting\n",
    "my_list=[]\n",
    "for i,element in enumerate(manual):\n",
    "    _ = soup.find('tr', class_=manual[i])\n",
    "    raw_address = _.find_all('td')[-1].get_text().strip()\n",
    "    if raw_address.endswith('\\t'):\n",
    "        raw_address = raw_address.split('\\t')[0]\n",
    "        \n",
    "    my_list.append(raw_address)\n",
    "    "
   ]
  },
  {
   "cell_type": "code",
   "execution_count": 138,
   "metadata": {},
   "outputs": [],
   "source": [
    "addy = ' '.join(my_list[0].split(' ')[:-1])\n",
    "addy = addy + ' 91752'"
   ]
  },
  {
   "cell_type": "code",
   "execution_count": 215,
   "metadata": {},
   "outputs": [
    {
     "data": {
      "text/plain": [
       "NoneType"
      ]
     },
     "execution_count": 215,
     "metadata": {},
     "output_type": "execute_result"
    }
   ],
   "source": [
    "# geopy still won't work on these tags, so using pygeocoder\n",
    "type(geolocator.geocode('5250 Goodman Road, Eastvale, CA 92880'))\n"
   ]
  },
  {
   "cell_type": "code",
   "execution_count": 127,
   "metadata": {},
   "outputs": [
    {
     "data": {
      "text/plain": [
       "['5250 Goodman Road, Eastvale, CA 92880',\n",
       " '5250 Goodman Road, Eastvale, CA 92880',\n",
       " '2020 E Central Avenue, Southgate Building 4, San Bernardino, CA 92408-2606',\n",
       " '24208 San Michele, Moreno Valley, CA 92551',\n",
       " '4590 Goodman Way, Building 1, Eastvale, CA 91752-5088',\n",
       " '4900 W Elkhorn Blvd, Metro Air Park, Sacramento, CA 95835-9505',\n",
       " 'E Central Avenue, Southgate Building 3, San Bernardino, CA 92408-0123',\n",
       " '1900 NW 132nd Place, Doral, FL, 33182',\n",
       " '205 Deen Still Road, Davenport, FL 33897',\n",
       " '13333 103rd St. Cecil Commerce Center, Jacksonville, FL 32221-8686',\n",
       " '4200 North Commerce, Atlanta, GA 30344-5707',\n",
       " '808 Hog Mountain Rd., Building F, Jefferson, GA, 30549',\n",
       " '1750 Bridge Dr., Waukegan, IL 60085-3004',\n",
       " '1125 W Remington Blvd, Romeoville, IL 60556',\n",
       " '5100 S Indianapolis Road, Whitestown, IN 46075',\n",
       " '4255 Anson Boulevard, Whitestown, IN 46075',\n",
       " '800 S Perry Road, Plainfield, IN 46168',\n",
       " '1453 10th Street, Jeffersonville, IN 47130',\n",
       " '9101 Orly Dr, Indianapolis, IN 46241',\n",
       " '113th Street and Renner Boulevard, Lenexa, KS, 66219',\n",
       " '19645 Waverly Road, Edgerton, KS 66021-9588',\n",
       " '2654 N US Highway 169 Coffeyville, KS 67337',\n",
       " 'Hebron Building 2, 2285 Litton Lane, Hebron, KY 41048-8435',\n",
       " '376 Zappos.com Boulevard, Shepherdesville, KY 40165',\n",
       " '100 W. Thomas P. Echols Lane, Shepherdsville, KY 40165',\n",
       " '1000 Tech Center Drive, Stoughton, MA 02072',\n",
       " '19991 Brownstown Center Dr, Brownstown Charter Twp, MI 48183',\n",
       " '3837 Bay Lake Trail, Suite 113, Las Vegas, NV 89193-0001',\n",
       " '4550 Nexus Way, North Las Vegas, NV 89115',\n",
       " '1600 East Newlands Dr. Fernley, NV 89408',\n",
       " '8000 North Virginia Street Reno, Reno, NV 85906',\n",
       " '2277 Center Square Road, Swedesboro, Logan Township, NJ 08085',\n",
       " '50 New Canton Way, Robbinsville, NJ 08691',\n",
       " '301 Blair Road #100, Avenel, NJ 07001',\n",
       " '275 Omar Avenue, Avenel, NJ 07001',\n",
       " '275 Omar Avenue, Avenel, NJ 07001',\n",
       " '8003 Industrial Avenue, Carteret, NJ 07008',\n",
       " '8003 Industrial Ave. Carteret, NJ 07008-3529',\n",
       " '2170 State Route 27, Edison, NJ 08817-3332',\n",
       " '2651 Oldmans Creek Rd, Swedesboro, Logan Township, NJ 08085-4503',\n",
       " '22 Highstown-Cranbury Station Road, Cranbury Township, NJ 08512',\n",
       " '1805 TW Alexander Drive, Durham, NC 27703',\n",
       " '1 Commerce Road, Pittston, PA 18640',\n",
       " '250 Enterprise Way, Pittston, PA 18640',\n",
       " '705 Boulder Drive, Breinigsville, PA 18031',\n",
       " '650 Boulder Drive, Breinigsville, PA 18031',\n",
       " '1610 Van Buren Rd., Easton, PA 18045-1707',\n",
       " '2 Ames Drive, Carlisle, PA 17015',\n",
       " '21 Roadway Drive, Carlisle, PA 17015',\n",
       " '500 McCarthy Drive, Lewisberry, PA 17339',\n",
       " '298 1st Ave, Gouldsboro, PA 18424',\n",
       " '298 1st Ave., Gouldsboro, PA 18424-9464',\n",
       " '2 Ames Drive, Carlisle, PA 17015',\n",
       " '4400 12th Street Extension, West Columbia, SC 29172',\n",
       " '225 Infinity Drive NW, Charleston, TN 37310',\n",
       " '2700 Regent Boulevard, DFW Airport, TX 75261',\n",
       " '2700 Regent Boulevard, DFW Airport, TX 75261',\n",
       " '6000 Enterprise Avenue, Schertz, TX 78154',\n",
       " '10550 Ella St., Houston, TX 77038-2324',\n",
       " '31555 Highway 90 E, Brookshire, TX  77423-2769',\n",
       " '1901 Meadowville Technology Parkway, Chester, VA 23836',\n",
       " '1901 Meadowville Technology Parkway, Chester, VA 23836',\n",
       " '45121 Global Plaza, Sterling, VA 20166',\n",
       " '165 Business Blvd, Clear Brook, VA  22624-1568',\n",
       " '11600 N Lakeridge Pkwy, Ashland, VA 23005',\n",
       " '1800 140th Avenue, E Sumner, WA',\n",
       " '2700 Center Drive, Dupont, WA 98327',\n",
       " '21005 64th Ave S, Kent, WA 98032',\n",
       " 'Building B, 20526 59th Pl S, Kent, WA 98032',\n",
       " '2646 Rainier Avenue, South Seattle, WA 98144']"
      ]
     },
     "execution_count": 127,
     "metadata": {},
     "output_type": "execute_result"
    }
   ],
   "source": [
    "my_list #address that still need to be converted to coordinates"
   ]
  },
  {
   "cell_type": "code",
   "execution_count": 145,
   "metadata": {},
   "outputs": [
    {
     "name": "stdout",
     "output_type": "stream",
     "text": [
      "Collecting pygeocoder\n",
      "  Downloading https://files.pythonhosted.org/packages/3b/79/2cf3a4dfe54705bbf07cbb25940078dfa595608aa4ecb9f0aaaae9faba08/pygeocoder-1.2.5.tar.gz\n",
      "Requirement already satisfied: requests>=1.0 in c:\\users\\achil\\anaconda3\\envs\\learn-env\\lib\\site-packages (from pygeocoder) (2.22.0)\n",
      "Requirement already satisfied: certifi>=2017.4.17 in c:\\users\\achil\\anaconda3\\envs\\learn-env\\lib\\site-packages (from requests>=1.0->pygeocoder) (2019.9.11)\n",
      "Requirement already satisfied: chardet<3.1.0,>=3.0.2 in c:\\users\\achil\\anaconda3\\envs\\learn-env\\lib\\site-packages (from requests>=1.0->pygeocoder) (3.0.4)\n",
      "Requirement already satisfied: urllib3!=1.25.0,!=1.25.1,<1.26,>=1.21.1 in c:\\users\\achil\\anaconda3\\envs\\learn-env\\lib\\site-packages (from requests>=1.0->pygeocoder) (1.24.2)\n",
      "Requirement already satisfied: idna<2.9,>=2.5 in c:\\users\\achil\\anaconda3\\envs\\learn-env\\lib\\site-packages (from requests>=1.0->pygeocoder) (2.8)\n",
      "Building wheels for collected packages: pygeocoder\n",
      "  Building wheel for pygeocoder (setup.py): started\n",
      "  Building wheel for pygeocoder (setup.py): finished with status 'done'\n",
      "  Created wheel for pygeocoder: filename=pygeocoder-1.2.5-cp36-none-any.whl size=8890 sha256=20292a16c8e81003647d893ae0f32a25ccbfb6a20f9b52e082392a550f0bf43e\n",
      "  Stored in directory: C:\\Users\\achil\\AppData\\Local\\pip\\Cache\\wheels\\7c\\4c\\00\\d05c66c4af5411c554c91b8079732c8a0359c2226fb8c01031\n",
      "Successfully built pygeocoder\n",
      "Installing collected packages: pygeocoder\n",
      "Successfully installed pygeocoder-1.2.5\n",
      "Note: you may need to restart the kernel to use updated packages.\n"
     ]
    }
   ],
   "source": [
    "pip install pygeocoder"
   ]
  },
  {
   "cell_type": "code",
   "execution_count": 146,
   "metadata": {},
   "outputs": [],
   "source": [
    "from pygeocoder import Geocoder"
   ]
  },
  {
   "cell_type": "code",
   "execution_count": 152,
   "metadata": {},
   "outputs": [],
   "source": [
    "geocoder = Geocoder(api_key='API key')"
   ]
  },
  {
   "cell_type": "code",
   "execution_count": 153,
   "metadata": {},
   "outputs": [
    {
     "data": {
      "text/plain": [
       "True"
      ]
     },
     "execution_count": 153,
     "metadata": {},
     "output_type": "execute_result"
    }
   ],
   "source": [
    "#testing to see that it works\n",
    "geocoder.geocode(\"4207 N Washington Ave, Douglas, AZ 85607\").valid_address"
   ]
  },
  {
   "cell_type": "code",
   "execution_count": 155,
   "metadata": {},
   "outputs": [
    {
     "data": {
      "text/plain": [
       "(33.9934733, -117.553896)"
      ]
     },
     "execution_count": 155,
     "metadata": {},
     "output_type": "execute_result"
    }
   ],
   "source": [
    "#test\n",
    "result = geocoder.geocode(my_list[0])\n",
    "result.coordinates"
   ]
  },
  {
   "cell_type": "code",
   "execution_count": 157,
   "metadata": {},
   "outputs": [],
   "source": [
    "#create list of coordinates from list of addresses\n",
    "coordinates=[]\n",
    "for i in range(len(my_list)):\n",
    "    result = geocoder.geocode(my_list[i])\n",
    "    coord = result.coordinates\n",
    "    coordinates.append(coord)"
   ]
  },
  {
   "cell_type": "code",
   "execution_count": 158,
   "metadata": {},
   "outputs": [
    {
     "data": {
      "text/plain": [
       "[(33.9934733, -117.553896),\n",
       " (33.9934733, -117.553896),\n",
       " (34.0900734, -117.2415235),\n",
       " (33.8720124, -117.2380732),\n",
       " (33.9991319, -117.5546178),\n",
       " (38.6825113, -121.5743353),\n",
       " (34.0884084, -117.2458387),\n",
       " (25.792998, -80.4108667),\n",
       " (28.2536146, -81.6601312),\n",
       " (30.2485587, -81.8635874),\n",
       " (33.6435231, -84.5002226),\n",
       " (34.1596709, -83.63075769999999),\n",
       " (42.3288517, -87.9019375),\n",
       " (41.6720569, -88.1155193),\n",
       " (39.9656696, -86.38296270000001),\n",
       " (39.9814183, -86.3765514),\n",
       " (39.6964498, -86.3578005),\n",
       " (38.2895656, -85.7304796),\n",
       " (39.6747924, -86.3259504),\n",
       " (38.9225117, -94.77934789999999),\n",
       " (38.772169, -94.94547899999999),\n",
       " (37.1045989, -95.5858513),\n",
       " (39.0747524, -84.7182751),\n",
       " (37.9822049, -85.68393619999999),\n",
       " (37.9829008, -85.6872629),\n",
       " (42.1469106, -71.06309),\n",
       " (42.162177, -83.23751700000001),\n",
       " (36.2287803, -115.1055348),\n",
       " (36.2668804, -115.0744003),\n",
       " (39.610373, -119.212531),\n",
       " (39.6037491, -119.8486126),\n",
       " (39.7753707, -75.37783449999999),\n",
       " (40.1956238, -74.5651555),\n",
       " (40.5827884, -74.2557139),\n",
       " (40.5836126, -74.25718100000002),\n",
       " (40.5836126, -74.25718100000002),\n",
       " (40.5188166, -74.3170107),\n",
       " (40.5952383, -74.2249008),\n",
       " (40.5280941, -74.3809705),\n",
       " (39.75845109999999, -75.3818465),\n",
       " (40.2917362, -74.50176379999999),\n",
       " (35.923111, -78.83128099999999),\n",
       " (41.3283271, -75.72114429999999),\n",
       " (41.3130289, -75.7709711),\n",
       " (40.5583972, -75.6138981),\n",
       " (40.556289, -75.621695),\n",
       " (40.7403275, -75.2774111),\n",
       " (40.1663469, -77.2416794),\n",
       " (40.226746, -77.11322799999999),\n",
       " (40.1713932, -76.8371391),\n",
       " (41.2770274, -75.4949893),\n",
       " (41.2770274, -75.4949893),\n",
       " (40.1663469, -77.2416794),\n",
       " (33.9112437, -81.0502798),\n",
       " (35.2828007, -84.8129606),\n",
       " (32.8998091, -97.0403352),\n",
       " (32.8998091, -97.0403352),\n",
       " (29.5997374, -98.29102189999999),\n",
       " (29.934448, -95.4283222),\n",
       " (29.7860644, -95.9129329),\n",
       " (37.3520174, -77.3270581),\n",
       " (37.3520174, -77.3270581),\n",
       " (38.9860544, -77.4398482),\n",
       " (39.2896589, -78.0791182),\n",
       " (37.7305962, -77.4561512),\n",
       " (47.2408984, -122.2433178),\n",
       " (47.1124286, -122.6385319),\n",
       " (47.4138055, -122.2603816),\n",
       " (47.4174678, -122.2598488),\n",
       " (47.5797029, -122.2971177)]"
      ]
     },
     "execution_count": 158,
     "metadata": {},
     "output_type": "execute_result"
    }
   ],
   "source": [
    "coordinates"
   ]
  },
  {
   "cell_type": "code",
   "execution_count": 159,
   "metadata": {},
   "outputs": [],
   "source": [
    "# aggregate coordinates from geopy\n",
    "records = az_records + ca_records + cc_records + de_records + fi_records + km_records + mn_records + nt_records + vw_records"
   ]
  },
  {
   "cell_type": "code",
   "execution_count": 160,
   "metadata": {},
   "outputs": [
    {
     "data": {
      "text/plain": [
       "[{'coord': (33.43332425, -112.20779650534851)},\n",
       " {'coord': (33.4121962, -112.4219375681358)},\n",
       " {'coord': (33.43119215503821, -112.15656929556613)},\n",
       " {'coord': (33.4485194, -112.2211793)},\n",
       " {'coord': (33.431179952419065, -112.15949317869877)},\n",
       " {'coord': (33.441741658291456, -112.22957998492463)},\n",
       " {'coord': (34.12841087755102, -117.42259173469388)},\n",
       " {'coord': (34.079646, -117.27532067336683)},\n",
       " {'coord': (37.7348257, -121.5314846)},\n",
       " {'coord': (34.0775633, -117.2330161)},\n",
       " {'coord': (37.4700601, -121.164331)},\n",
       " {'coord': (37.7430048, -121.4047365)},\n",
       " {'coord': (37.52274876484464, -122.0143879172679)},\n",
       " {'coord': (37.9166607, -121.25040435)},\n",
       " {'coord': (34.0814685, -117.201434)},\n",
       " {'coord': (33.8813784, -117.2944786)},\n",
       " {'coord': (34.079646, -117.27532067336683)},\n",
       " {'coord': (34.079646, -117.27532067336683)},\n",
       " {'coord': (37.52274876484464, -122.0143879172679)},\n",
       " {'coord': (33.86658169789471, -117.23708735289637)},\n",
       " {'coord': (34.127027585582134, -117.40116311524525)},\n",
       " {'coord': (39.76768665, -104.7557950513125)},\n",
       " {'coord': (39.743461514279375, -104.71318452955254)},\n",
       " {'coord': (39.794520500000004, -104.98104795)},\n",
       " {'coord': (41.876107, -72.694975)},\n",
       " {'coord': (41.4868071, -72.7630022)},\n",
       " {'coord': (41.40718813037837, -72.84521501106487)},\n",
       " {'coord': (39.662698, -75.588325)},\n",
       " {'coord': (39.66211066347132, -75.58776128275659)},\n",
       " {'coord': (39.4434528, -75.7390241)},\n",
       " {'coord': (39.4559445, -75.7187088)},\n",
       " {'coord': (27.724197443460195, -82.39275260266557)},\n",
       " {'coord': (28.020405465339724, -82.05553738019398)},\n",
       " {'coord': (28.020405465339724, -82.05553738019398)},\n",
       " {'coord': (30.465323599999998, -81.68029390000001)},\n",
       " {'coord': (30.3821120009228, -81.78788431182106)},\n",
       " {'coord': (33.7962248, -84.640658)},\n",
       " {'coord': (33.568814829853416, -84.53943522521547)},\n",
       " {'coord': (34.10540731891049, -83.77667531855853)},\n",
       " {'coord': (41.4808934, -88.0759124)},\n",
       " {'coord': (41.4855423, -88.0694809)},\n",
       " {'coord': (41.67406883333334, -88.11770666666666)},\n",
       " {'coord': (38.77187085, -90.04064684767636)},\n",
       " {'coord': (38.7973679, -90.0763783)},\n",
       " {'coord': (38.7973679, -90.0763783)},\n",
       " {'coord': (41.42675514657619, -87.77108285445104)},\n",
       " {'coord': (41.815004349999995, -88.21276520465292)},\n",
       " {'coord': (39.70837085714286, -86.34626871428571)},\n",
       " {'coord': (39.70838540816327, -86.34626895918367)},\n",
       " {'coord': (39.75455704597701, -86.28910116091954)},\n",
       " {'coord': (38.37880535, -85.6868243)},\n",
       " {'coord': (38.92240213439838, -94.78181316565949)},\n",
       " {'coord': (39.102365, -94.73927226530611)},\n",
       " {'coord': (37.32801126608095, -85.35168765525495)},\n",
       " {'coord': (38.1951343, -85.69271712333497)},\n",
       " {'coord': (39.0846526, -84.71347803083603)},\n",
       " {'coord': (39.0849526, -84.7149241)},\n",
       " {'coord': (39.0600057171595, -84.71357387388001)},\n",
       " {'coord': (38.0778404, -84.5331091)},\n",
       " {'coord': (38.07406747086827, -84.54651541547122)},\n",
       " {'coord': (37.978102, -85.683543)},\n",
       " {'coord': (37.9638046, -85.6758038)},\n",
       " {'coord': (39.267657549999996, -76.54904529607478)},\n",
       " {'coord': (39.271657, -76.552755)},\n",
       " {'coord': (39.27036459999999, -76.54803544883359)},\n",
       " {'coord': (39.5897876, -76.0047591)},\n",
       " {'coord': (41.7621205, -71.100137874562)},\n",
       " {'coord': (42.37434320175948, -83.42885569671779)},\n",
       " {'coord': (42.37434320175948, -83.42885569671779)},\n",
       " {'coord': (44.80059945, -93.48865500885567)},\n",
       " {'coord': (44.78839255, -93.44285005008032)},\n",
       " {'coord': (39.600859615371554, -119.84574717831151)},\n",
       " {'coord': (42.7919779, -71.5294631)},\n",
       " {'coord': (40.56934732377457, -74.22058659986419)},\n",
       " {'coord': (40.56934732377457, -74.22058659986419)},\n",
       " {'coord': (40.096959, -74.792309)},\n",
       " {'coord': (40.86323053367198, -74.0603383184325)},\n",
       " {'coord': (42.923611, -78.622055)},\n",
       " {'coord': (35.389794251124016, -80.71889678215366)},\n",
       " {'coord': (35.389794251124016, -80.71889678215366)},\n",
       " {'coord': (35.24221934771131, -80.99737261815821)},\n",
       " {'coord': (41.30542925, -81.4657302754815)},\n",
       " {'coord': (39.95681116305533, -82.71457050974392)},\n",
       " {'coord': (39.843697, -82.933829)},\n",
       " {'coord': (45.55850289999999, -122.91967872516132)},\n",
       " {'coord': (40.923723332947645, -76.08056768674362)},\n",
       " {'coord': (40.3750622, -76.6446661)},\n",
       " {'coord': (40.1886535, -77.2401812)},\n",
       " {'coord': (40.44260879509591, -80.08352276997047)},\n",
       " {'coord': (40.18896193584097, -77.23878476055881)},\n",
       " {'coord': (40.44260879509591, -80.08352276997047)},\n",
       " {'coord': (35.00827065, -82.03562155725744)},\n",
       " {'coord': (36.13339792612313, -86.40711361516522)},\n",
       " {'coord': (36.1274658, -86.4050146)},\n",
       " {'coord': (35.7800275, -86.3614113)},\n",
       " {'coord': (36.128425, -86.693565)},\n",
       " {'coord': (35.0708247, -85.1433617)},\n",
       " {'coord': (32.95804715, -97.01703732496823)},\n",
       " {'coord': (32.9723646, -97.3128855)},\n",
       " {'coord': (33.001592, -97.297511)},\n",
       " {'coord': (33.001592, -97.297511)},\n",
       " {'coord': (29.42087965, -98.59825475)},\n",
       " {'coord': (32.81828025, -97.04287285)},\n",
       " {'coord': (30.0015811, -95.2748393)},\n",
       " {'coord': (32.95804715, -97.01703732496823)},\n",
       " {'coord': (32.9695805, -97.0013353)},\n",
       " {'coord': (32.6324999, -96.77362813581769)},\n",
       " {'coord': (29.8336623, -97.9655261)},\n",
       " {'coord': (37.19469625, -77.49304279260181)},\n",
       " {'coord': (47.62070071812081, -122.17512845637584)},\n",
       " {'coord': (47.24100835, -122.24329237781214)},\n",
       " {'coord': (47.41449595, -122.25778195000001)},\n",
       " {'coord': (42.6037382, -87.9101178)},\n",
       " {'coord': (42.606909849999994, -87.94814344844625)}]"
      ]
     },
     "execution_count": 160,
     "metadata": {},
     "output_type": "execute_result"
    }
   ],
   "source": [
    "records"
   ]
  },
  {
   "cell_type": "markdown",
   "metadata": {},
   "source": [
    "### Merge coordinates from both processes to create df"
   ]
  },
  {
   "cell_type": "code",
   "execution_count": 169,
   "metadata": {},
   "outputs": [],
   "source": [
    "latitude1 = []\n",
    "longitude1 = []\n",
    "for record in records:\n",
    "    lat = record['coord'][0]\n",
    "    long = record['coord'][1]\n",
    "    latitude1.append(lat)\n",
    "    longitude1.append(long)"
   ]
  },
  {
   "cell_type": "code",
   "execution_count": 170,
   "metadata": {},
   "outputs": [
    {
     "data": {
      "text/plain": [
       "114"
      ]
     },
     "metadata": {},
     "output_type": "display_data"
    },
    {
     "data": {
      "text/plain": [
       "114"
      ]
     },
     "metadata": {},
     "output_type": "display_data"
    }
   ],
   "source": [
    "display(len(latitude1))\n",
    "display(len(longitude1))"
   ]
  },
  {
   "cell_type": "code",
   "execution_count": 171,
   "metadata": {},
   "outputs": [],
   "source": [
    "latitude2 = []\n",
    "longitude2 = []\n",
    "for coord in coordinates:\n",
    "    lat2 = coord[0]\n",
    "    long2 = coord[1]\n",
    "    latitude2.append(lat2)\n",
    "    longitude2.append(long2)"
   ]
  },
  {
   "cell_type": "code",
   "execution_count": 172,
   "metadata": {},
   "outputs": [
    {
     "data": {
      "text/plain": [
       "70"
      ]
     },
     "metadata": {},
     "output_type": "display_data"
    },
    {
     "data": {
      "text/plain": [
       "70"
      ]
     },
     "metadata": {},
     "output_type": "display_data"
    }
   ],
   "source": [
    "display(len(latitude2))\n",
    "display(len(longitude2))"
   ]
  },
  {
   "cell_type": "code",
   "execution_count": 173,
   "metadata": {},
   "outputs": [
    {
     "data": {
      "text/plain": [
       "184"
      ]
     },
     "execution_count": 173,
     "metadata": {},
     "output_type": "execute_result"
    }
   ],
   "source": [
    "latitude = latitude1 + latitude2\n",
    "len(latitude)"
   ]
  },
  {
   "cell_type": "code",
   "execution_count": 174,
   "metadata": {},
   "outputs": [
    {
     "data": {
      "text/plain": [
       "184"
      ]
     },
     "execution_count": 174,
     "metadata": {},
     "output_type": "execute_result"
    }
   ],
   "source": [
    "longitude = longitude1 + longitude2\n",
    "len(longitude)"
   ]
  },
  {
   "cell_type": "code",
   "execution_count": 175,
   "metadata": {},
   "outputs": [],
   "source": [
    "warehouse_locations = {'aw_lat': latitude, 'aw_long': longitude}"
   ]
  },
  {
   "cell_type": "code",
   "execution_count": 212,
   "metadata": {},
   "outputs": [
    {
     "data": {
      "text/html": [
       "<div>\n",
       "<style scoped>\n",
       "    .dataframe tbody tr th:only-of-type {\n",
       "        vertical-align: middle;\n",
       "    }\n",
       "\n",
       "    .dataframe tbody tr th {\n",
       "        vertical-align: top;\n",
       "    }\n",
       "\n",
       "    .dataframe thead th {\n",
       "        text-align: right;\n",
       "    }\n",
       "</style>\n",
       "<table border=\"1\" class=\"dataframe\">\n",
       "  <thead>\n",
       "    <tr style=\"text-align: right;\">\n",
       "      <th></th>\n",
       "      <th>aw_lat</th>\n",
       "      <th>aw_long</th>\n",
       "    </tr>\n",
       "  </thead>\n",
       "  <tbody>\n",
       "    <tr>\n",
       "      <td>0</td>\n",
       "      <td>33.433324</td>\n",
       "      <td>-112.207797</td>\n",
       "    </tr>\n",
       "    <tr>\n",
       "      <td>1</td>\n",
       "      <td>33.412196</td>\n",
       "      <td>-112.421938</td>\n",
       "    </tr>\n",
       "    <tr>\n",
       "      <td>2</td>\n",
       "      <td>33.431192</td>\n",
       "      <td>-112.156569</td>\n",
       "    </tr>\n",
       "    <tr>\n",
       "      <td>3</td>\n",
       "      <td>33.448519</td>\n",
       "      <td>-112.221179</td>\n",
       "    </tr>\n",
       "    <tr>\n",
       "      <td>4</td>\n",
       "      <td>33.431180</td>\n",
       "      <td>-112.159493</td>\n",
       "    </tr>\n",
       "  </tbody>\n",
       "</table>\n",
       "</div>"
      ],
      "text/plain": [
       "      aw_lat     aw_long\n",
       "0  33.433324 -112.207797\n",
       "1  33.412196 -112.421938\n",
       "2  33.431192 -112.156569\n",
       "3  33.448519 -112.221179\n",
       "4  33.431180 -112.159493"
      ]
     },
     "execution_count": 212,
     "metadata": {},
     "output_type": "execute_result"
    }
   ],
   "source": [
    "df = pd.DataFrame(warehouse_locations)\n",
    "df.head()"
   ]
  },
  {
   "cell_type": "code",
   "execution_count": 191,
   "metadata": {
    "scrolled": true
   },
   "outputs": [
    {
     "name": "stdout",
     "output_type": "stream",
     "text": [
      "<class 'pandas.core.frame.DataFrame'>\n",
      "RangeIndex: 184 entries, 0 to 183\n",
      "Data columns (total 2 columns):\n",
      "aw_lat     184 non-null float64\n",
      "aw_long    184 non-null float64\n",
      "dtypes: float64(2)\n",
      "memory usage: 3.0 KB\n"
     ]
    }
   ],
   "source": [
    "df.info()"
   ]
  },
  {
   "cell_type": "code",
   "execution_count": 209,
   "metadata": {},
   "outputs": [],
   "source": [
    "aw_cities=[]\n",
    "aw_states=[]\n",
    "aw_zips=[]\n",
    "for x in range(len(df['aw_lat'])):\n",
    "    row = geocoder.reverse_geocode(df['aw_lat'][x], df['aw_long'][x])\n",
    "    c = row.city\n",
    "    state = row.administrative_area_level_1\n",
    "    zip_code = row.postal_code\n",
    "    \n",
    "    aw_cities.append(c)\n",
    "    aw_states.append(state)\n",
    "    aw_zips.append(zip_code)"
   ]
  },
  {
   "cell_type": "code",
   "execution_count": 210,
   "metadata": {},
   "outputs": [
    {
     "data": {
      "text/plain": [
       "184"
      ]
     },
     "metadata": {},
     "output_type": "display_data"
    },
    {
     "data": {
      "text/plain": [
       "184"
      ]
     },
     "metadata": {},
     "output_type": "display_data"
    },
    {
     "data": {
      "text/plain": [
       "184"
      ]
     },
     "metadata": {},
     "output_type": "display_data"
    }
   ],
   "source": [
    "display(len(aw_cities))\n",
    "display(len(aw_states))\n",
    "display(len(aw_zips))"
   ]
  },
  {
   "cell_type": "code",
   "execution_count": 213,
   "metadata": {},
   "outputs": [
    {
     "data": {
      "text/html": [
       "<div>\n",
       "<style scoped>\n",
       "    .dataframe tbody tr th:only-of-type {\n",
       "        vertical-align: middle;\n",
       "    }\n",
       "\n",
       "    .dataframe tbody tr th {\n",
       "        vertical-align: top;\n",
       "    }\n",
       "\n",
       "    .dataframe thead th {\n",
       "        text-align: right;\n",
       "    }\n",
       "</style>\n",
       "<table border=\"1\" class=\"dataframe\">\n",
       "  <thead>\n",
       "    <tr style=\"text-align: right;\">\n",
       "      <th></th>\n",
       "      <th>aw_lat</th>\n",
       "      <th>aw_long</th>\n",
       "      <th>aw_city</th>\n",
       "      <th>aw_state</th>\n",
       "      <th>aw_zip</th>\n",
       "    </tr>\n",
       "  </thead>\n",
       "  <tbody>\n",
       "    <tr>\n",
       "      <td>0</td>\n",
       "      <td>33.433324</td>\n",
       "      <td>-112.207797</td>\n",
       "      <td>Phoenix</td>\n",
       "      <td>Arizona</td>\n",
       "      <td>85043</td>\n",
       "    </tr>\n",
       "    <tr>\n",
       "      <td>1</td>\n",
       "      <td>33.412196</td>\n",
       "      <td>-112.421938</td>\n",
       "      <td>Goodyear</td>\n",
       "      <td>Arizona</td>\n",
       "      <td>85338</td>\n",
       "    </tr>\n",
       "    <tr>\n",
       "      <td>2</td>\n",
       "      <td>33.431192</td>\n",
       "      <td>-112.156569</td>\n",
       "      <td>Phoenix</td>\n",
       "      <td>Arizona</td>\n",
       "      <td>85043</td>\n",
       "    </tr>\n",
       "    <tr>\n",
       "      <td>3</td>\n",
       "      <td>33.448519</td>\n",
       "      <td>-112.221179</td>\n",
       "      <td>Phoenix</td>\n",
       "      <td>Arizona</td>\n",
       "      <td>85043</td>\n",
       "    </tr>\n",
       "    <tr>\n",
       "      <td>4</td>\n",
       "      <td>33.431180</td>\n",
       "      <td>-112.159493</td>\n",
       "      <td>Phoenix</td>\n",
       "      <td>Arizona</td>\n",
       "      <td>85043</td>\n",
       "    </tr>\n",
       "  </tbody>\n",
       "</table>\n",
       "</div>"
      ],
      "text/plain": [
       "      aw_lat     aw_long   aw_city aw_state aw_zip\n",
       "0  33.433324 -112.207797   Phoenix  Arizona  85043\n",
       "1  33.412196 -112.421938  Goodyear  Arizona  85338\n",
       "2  33.431192 -112.156569   Phoenix  Arizona  85043\n",
       "3  33.448519 -112.221179   Phoenix  Arizona  85043\n",
       "4  33.431180 -112.159493   Phoenix  Arizona  85043"
      ]
     },
     "execution_count": 213,
     "metadata": {},
     "output_type": "execute_result"
    }
   ],
   "source": [
    "df['aw_city'] = aw_cities\n",
    "df['aw_state'] = aw_states\n",
    "df['aw_zip'] = aw_zips\n",
    "df.head()"
   ]
  },
  {
   "cell_type": "code",
   "execution_count": 214,
   "metadata": {},
   "outputs": [],
   "source": [
    "# df.to_csv('amazon_warehouses.csv')"
   ]
  },
  {
   "cell_type": "markdown",
   "metadata": {},
   "source": [
    "## Feature engineering and EDA"
   ]
  },
  {
   "cell_type": "code",
   "execution_count": 8,
   "metadata": {},
   "outputs": [
    {
     "data": {
      "text/html": [
       "<div>\n",
       "<style scoped>\n",
       "    .dataframe tbody tr th:only-of-type {\n",
       "        vertical-align: middle;\n",
       "    }\n",
       "\n",
       "    .dataframe tbody tr th {\n",
       "        vertical-align: top;\n",
       "    }\n",
       "\n",
       "    .dataframe thead th {\n",
       "        text-align: right;\n",
       "    }\n",
       "</style>\n",
       "<table border=\"1\" class=\"dataframe\">\n",
       "  <thead>\n",
       "    <tr style=\"text-align: right;\">\n",
       "      <th></th>\n",
       "      <th>aw_lat</th>\n",
       "      <th>aw_long</th>\n",
       "      <th>aw_city</th>\n",
       "      <th>aw_state</th>\n",
       "      <th>aw_zip</th>\n",
       "    </tr>\n",
       "  </thead>\n",
       "  <tbody>\n",
       "    <tr>\n",
       "      <td>0</td>\n",
       "      <td>33.433324</td>\n",
       "      <td>-112.207797</td>\n",
       "      <td>Phoenix</td>\n",
       "      <td>Arizona</td>\n",
       "      <td>85043</td>\n",
       "    </tr>\n",
       "    <tr>\n",
       "      <td>1</td>\n",
       "      <td>33.412196</td>\n",
       "      <td>-112.421938</td>\n",
       "      <td>Goodyear</td>\n",
       "      <td>Arizona</td>\n",
       "      <td>85338</td>\n",
       "    </tr>\n",
       "    <tr>\n",
       "      <td>2</td>\n",
       "      <td>33.431192</td>\n",
       "      <td>-112.156569</td>\n",
       "      <td>Phoenix</td>\n",
       "      <td>Arizona</td>\n",
       "      <td>85043</td>\n",
       "    </tr>\n",
       "    <tr>\n",
       "      <td>3</td>\n",
       "      <td>33.448519</td>\n",
       "      <td>-112.221179</td>\n",
       "      <td>Phoenix</td>\n",
       "      <td>Arizona</td>\n",
       "      <td>85043</td>\n",
       "    </tr>\n",
       "    <tr>\n",
       "      <td>4</td>\n",
       "      <td>33.431180</td>\n",
       "      <td>-112.159493</td>\n",
       "      <td>Phoenix</td>\n",
       "      <td>Arizona</td>\n",
       "      <td>85043</td>\n",
       "    </tr>\n",
       "  </tbody>\n",
       "</table>\n",
       "</div>"
      ],
      "text/plain": [
       "      aw_lat     aw_long   aw_city aw_state  aw_zip\n",
       "0  33.433324 -112.207797   Phoenix  Arizona   85043\n",
       "1  33.412196 -112.421938  Goodyear  Arizona   85338\n",
       "2  33.431192 -112.156569   Phoenix  Arizona   85043\n",
       "3  33.448519 -112.221179   Phoenix  Arizona   85043\n",
       "4  33.431180 -112.159493   Phoenix  Arizona   85043"
      ]
     },
     "execution_count": 8,
     "metadata": {},
     "output_type": "execute_result"
    }
   ],
   "source": [
    "df = pd.read_csv('amazon_warehouses.csv', index_col=0)\n",
    "df.head()"
   ]
  },
  {
   "cell_type": "code",
   "execution_count": 9,
   "metadata": {},
   "outputs": [],
   "source": [
    "from geopy import distance"
   ]
  },
  {
   "cell_type": "code",
   "execution_count": 10,
   "metadata": {},
   "outputs": [],
   "source": [
    "loc1 = (df['aw_lat'][0], df['aw_long'][0])\n",
    "loc2 = (df['aw_lat'][1], df['aw_long'][1])"
   ]
  },
  {
   "cell_type": "code",
   "execution_count": 11,
   "metadata": {},
   "outputs": [
    {
     "name": "stdout",
     "output_type": "stream",
     "text": [
      "12.460710239593315\n"
     ]
    }
   ],
   "source": [
    "print(distance.distance(loc1, loc2).miles)"
   ]
  },
  {
   "cell_type": "code",
   "execution_count": 12,
   "metadata": {},
   "outputs": [],
   "source": [
    "df['aw_coord'] = df.apply(lambda row: (round(row.aw_lat,2), round(row.aw_long,2)), axis=1)"
   ]
  },
  {
   "cell_type": "code",
   "execution_count": 37,
   "metadata": {},
   "outputs": [
    {
     "data": {
      "text/html": [
       "<div>\n",
       "<style scoped>\n",
       "    .dataframe tbody tr th:only-of-type {\n",
       "        vertical-align: middle;\n",
       "    }\n",
       "\n",
       "    .dataframe tbody tr th {\n",
       "        vertical-align: top;\n",
       "    }\n",
       "\n",
       "    .dataframe thead th {\n",
       "        text-align: right;\n",
       "    }\n",
       "</style>\n",
       "<table border=\"1\" class=\"dataframe\">\n",
       "  <thead>\n",
       "    <tr style=\"text-align: right;\">\n",
       "      <th></th>\n",
       "      <th>aw_lat</th>\n",
       "      <th>aw_long</th>\n",
       "      <th>aw_city</th>\n",
       "      <th>aw_state</th>\n",
       "      <th>aw_zip</th>\n",
       "      <th>aw_coord</th>\n",
       "      <th>aw_zip_str</th>\n",
       "    </tr>\n",
       "  </thead>\n",
       "  <tbody>\n",
       "    <tr>\n",
       "      <td>0</td>\n",
       "      <td>33.433324</td>\n",
       "      <td>-112.207797</td>\n",
       "      <td>Phoenix</td>\n",
       "      <td>Arizona</td>\n",
       "      <td>85043</td>\n",
       "      <td>(33.43, -112.21)</td>\n",
       "      <td>85043</td>\n",
       "    </tr>\n",
       "    <tr>\n",
       "      <td>1</td>\n",
       "      <td>33.412196</td>\n",
       "      <td>-112.421938</td>\n",
       "      <td>Goodyear</td>\n",
       "      <td>Arizona</td>\n",
       "      <td>85338</td>\n",
       "      <td>(33.41, -112.42)</td>\n",
       "      <td>85338</td>\n",
       "    </tr>\n",
       "    <tr>\n",
       "      <td>2</td>\n",
       "      <td>33.431192</td>\n",
       "      <td>-112.156569</td>\n",
       "      <td>Phoenix</td>\n",
       "      <td>Arizona</td>\n",
       "      <td>85043</td>\n",
       "      <td>(33.43, -112.16)</td>\n",
       "      <td>85043</td>\n",
       "    </tr>\n",
       "    <tr>\n",
       "      <td>3</td>\n",
       "      <td>33.448519</td>\n",
       "      <td>-112.221179</td>\n",
       "      <td>Phoenix</td>\n",
       "      <td>Arizona</td>\n",
       "      <td>85043</td>\n",
       "      <td>(33.45, -112.22)</td>\n",
       "      <td>85043</td>\n",
       "    </tr>\n",
       "    <tr>\n",
       "      <td>4</td>\n",
       "      <td>33.431180</td>\n",
       "      <td>-112.159493</td>\n",
       "      <td>Phoenix</td>\n",
       "      <td>Arizona</td>\n",
       "      <td>85043</td>\n",
       "      <td>(33.43, -112.16)</td>\n",
       "      <td>85043</td>\n",
       "    </tr>\n",
       "  </tbody>\n",
       "</table>\n",
       "</div>"
      ],
      "text/plain": [
       "      aw_lat     aw_long   aw_city aw_state  aw_zip          aw_coord  \\\n",
       "0  33.433324 -112.207797   Phoenix  Arizona   85043  (33.43, -112.21)   \n",
       "1  33.412196 -112.421938  Goodyear  Arizona   85338  (33.41, -112.42)   \n",
       "2  33.431192 -112.156569   Phoenix  Arizona   85043  (33.43, -112.16)   \n",
       "3  33.448519 -112.221179   Phoenix  Arizona   85043  (33.45, -112.22)   \n",
       "4  33.431180 -112.159493   Phoenix  Arizona   85043  (33.43, -112.16)   \n",
       "\n",
       "  aw_zip_str  \n",
       "0      85043  \n",
       "1      85338  \n",
       "2      85043  \n",
       "3      85043  \n",
       "4      85043  "
      ]
     },
     "execution_count": 37,
     "metadata": {},
     "output_type": "execute_result"
    }
   ],
   "source": [
    "df.head()"
   ]
  },
  {
   "cell_type": "code",
   "execution_count": 45,
   "metadata": {
    "scrolled": true
   },
   "outputs": [],
   "source": [
    "# calculates the shortest distance between a warehouse and closest neighboring warehouse \n",
    "# given a single column as an np.array    \n",
    "# dependency: from geopy import distance\n",
    "\n",
    "def shortest_distance_warehouses(coord_col):\n",
    "    '''takes column with lat/long coordinates and returns \n",
    "    closest neighbor for each location in column'''\n",
    "    \n",
    "    coords = coord_col\n",
    "    compare = len(coord_col)\n",
    "\n",
    "    closest = []\n",
    "    for index, coord in enumerate(coords):\n",
    "        distances = []\n",
    "\n",
    "        for i in range(compare):\n",
    "\n",
    "            if i != index:\n",
    "                d = distance.distance(coord, coords[i]).miles\n",
    "                distances.append(d)\n",
    "        \n",
    "        near = min(distances)\n",
    "        closest.append(near)\n",
    "        \n",
    "    return closest"
   ]
  },
  {
   "cell_type": "code",
   "execution_count": 59,
   "metadata": {},
   "outputs": [],
   "source": [
    "# calculates the shortest distance between a coordinate in one array and a coordinate in another array \n",
    "# given two df columns as np.arrays    \n",
    "# dependency: from geopy import distance\n",
    "\n",
    "def shortest_distance_locations(locations1, locations2): \n",
    "    '''takes two columns with lat/long coordinates and returns \n",
    "    shortest distance. Takes each location in first column\n",
    "    and loops through all locations in second column'''\n",
    "    \n",
    "    closest = []\n",
    "    for location in locations1:\n",
    "        distances = []\n",
    "\n",
    "        for loc in locations2:\n",
    "\n",
    "            d = distance.distance(location, loc).miles\n",
    "            distances.append(d)\n",
    "        \n",
    "        near = min(distances)\n",
    "        closest.append(near)\n",
    "        \n",
    "    return closest\n",
    "    "
   ]
  },
  {
   "cell_type": "code",
   "execution_count": 46,
   "metadata": {},
   "outputs": [],
   "source": [
    "coord_col = np.array(df.aw_coord)\n",
    "miles_aw_to_aw = shortest_distance_warehouses(coord_col)"
   ]
  },
  {
   "cell_type": "code",
   "execution_count": 48,
   "metadata": {},
   "outputs": [
    {
     "data": {
      "text/plain": [
       "[1.3455451191992884, 11.172896275601403, 0.0, 0.899317044267959, 0.0]"
      ]
     },
     "execution_count": 48,
     "metadata": {},
     "output_type": "execute_result"
    }
   ],
   "source": [
    "#head of output (distances in miles)\n",
    "miles_aw_to_aw[:5]"
   ]
  },
  {
   "cell_type": "code",
   "execution_count": 49,
   "metadata": {},
   "outputs": [],
   "source": [
    "df['miles_aw_to_aw'] = miles_aw_to_aw"
   ]
  },
  {
   "cell_type": "code",
   "execution_count": 50,
   "metadata": {},
   "outputs": [
    {
     "data": {
      "text/html": [
       "<div>\n",
       "<style scoped>\n",
       "    .dataframe tbody tr th:only-of-type {\n",
       "        vertical-align: middle;\n",
       "    }\n",
       "\n",
       "    .dataframe tbody tr th {\n",
       "        vertical-align: top;\n",
       "    }\n",
       "\n",
       "    .dataframe thead th {\n",
       "        text-align: right;\n",
       "    }\n",
       "</style>\n",
       "<table border=\"1\" class=\"dataframe\">\n",
       "  <thead>\n",
       "    <tr style=\"text-align: right;\">\n",
       "      <th></th>\n",
       "      <th>aw_lat</th>\n",
       "      <th>aw_long</th>\n",
       "      <th>aw_city</th>\n",
       "      <th>aw_state</th>\n",
       "      <th>aw_zip</th>\n",
       "      <th>aw_coord</th>\n",
       "      <th>aw_zip_str</th>\n",
       "      <th>miles_aw_to_aw</th>\n",
       "    </tr>\n",
       "  </thead>\n",
       "  <tbody>\n",
       "    <tr>\n",
       "      <td>0</td>\n",
       "      <td>33.433324</td>\n",
       "      <td>-112.207797</td>\n",
       "      <td>Phoenix</td>\n",
       "      <td>Arizona</td>\n",
       "      <td>85043</td>\n",
       "      <td>(33.43, -112.21)</td>\n",
       "      <td>85043</td>\n",
       "      <td>1.345545</td>\n",
       "    </tr>\n",
       "    <tr>\n",
       "      <td>1</td>\n",
       "      <td>33.412196</td>\n",
       "      <td>-112.421938</td>\n",
       "      <td>Goodyear</td>\n",
       "      <td>Arizona</td>\n",
       "      <td>85338</td>\n",
       "      <td>(33.41, -112.42)</td>\n",
       "      <td>85338</td>\n",
       "      <td>11.172896</td>\n",
       "    </tr>\n",
       "    <tr>\n",
       "      <td>2</td>\n",
       "      <td>33.431192</td>\n",
       "      <td>-112.156569</td>\n",
       "      <td>Phoenix</td>\n",
       "      <td>Arizona</td>\n",
       "      <td>85043</td>\n",
       "      <td>(33.43, -112.16)</td>\n",
       "      <td>85043</td>\n",
       "      <td>0.000000</td>\n",
       "    </tr>\n",
       "    <tr>\n",
       "      <td>3</td>\n",
       "      <td>33.448519</td>\n",
       "      <td>-112.221179</td>\n",
       "      <td>Phoenix</td>\n",
       "      <td>Arizona</td>\n",
       "      <td>85043</td>\n",
       "      <td>(33.45, -112.22)</td>\n",
       "      <td>85043</td>\n",
       "      <td>0.899317</td>\n",
       "    </tr>\n",
       "    <tr>\n",
       "      <td>4</td>\n",
       "      <td>33.431180</td>\n",
       "      <td>-112.159493</td>\n",
       "      <td>Phoenix</td>\n",
       "      <td>Arizona</td>\n",
       "      <td>85043</td>\n",
       "      <td>(33.43, -112.16)</td>\n",
       "      <td>85043</td>\n",
       "      <td>0.000000</td>\n",
       "    </tr>\n",
       "  </tbody>\n",
       "</table>\n",
       "</div>"
      ],
      "text/plain": [
       "      aw_lat     aw_long   aw_city aw_state  aw_zip          aw_coord  \\\n",
       "0  33.433324 -112.207797   Phoenix  Arizona   85043  (33.43, -112.21)   \n",
       "1  33.412196 -112.421938  Goodyear  Arizona   85338  (33.41, -112.42)   \n",
       "2  33.431192 -112.156569   Phoenix  Arizona   85043  (33.43, -112.16)   \n",
       "3  33.448519 -112.221179   Phoenix  Arizona   85043  (33.45, -112.22)   \n",
       "4  33.431180 -112.159493   Phoenix  Arizona   85043  (33.43, -112.16)   \n",
       "\n",
       "  aw_zip_str  miles_aw_to_aw  \n",
       "0      85043        1.345545  \n",
       "1      85338       11.172896  \n",
       "2      85043        0.000000  \n",
       "3      85043        0.899317  \n",
       "4      85043        0.000000  "
      ]
     },
     "execution_count": 50,
     "metadata": {},
     "output_type": "execute_result"
    }
   ],
   "source": [
    "df.head()"
   ]
  },
  {
   "cell_type": "code",
   "execution_count": 53,
   "metadata": {},
   "outputs": [],
   "source": [
    "df.to_csv('amazon_warehouses.csv')"
   ]
  },
  {
   "cell_type": "code",
   "execution_count": 16,
   "metadata": {
    "scrolled": true
   },
   "outputs": [
    {
     "data": {
      "image/png": "[encoded data removed]",
      "text/plain": [
       "<Figure size 432x288 with 1 Axes>"
      ]
     },
     "metadata": {
      "needs_background": "light"
     },
     "output_type": "display_data"
    }
   ],
   "source": [
    "_=plt.hist(closest, bins=100)"
   ]
  },
  {
   "cell_type": "code",
   "execution_count": 17,
   "metadata": {},
   "outputs": [
    {
     "data": {
      "text/plain": [
       "92408    5\n",
       "40165    4\n",
       "85043    4\n",
       "41048    4\n",
       "76177    3\n",
       "        ..\n",
       "6095     1\n",
       "23803    1\n",
       "18045    1\n",
       "75134    1\n",
       "7036     1\n",
       "Name: aw_zip, Length: 127, dtype: int64"
      ]
     },
     "execution_count": 17,
     "metadata": {},
     "output_type": "execute_result"
    }
   ],
   "source": [
    "df.aw_zip.value_counts()"
   ]
  },
  {
   "cell_type": "code",
   "execution_count": 18,
   "metadata": {
    "scrolled": true
   },
   "outputs": [
    {
     "data": {
      "text/html": [
       "<div>\n",
       "<style scoped>\n",
       "    .dataframe tbody tr th:only-of-type {\n",
       "        vertical-align: middle;\n",
       "    }\n",
       "\n",
       "    .dataframe tbody tr th {\n",
       "        vertical-align: top;\n",
       "    }\n",
       "\n",
       "    .dataframe thead th {\n",
       "        text-align: right;\n",
       "    }\n",
       "</style>\n",
       "<table border=\"1\" class=\"dataframe\">\n",
       "  <thead>\n",
       "    <tr style=\"text-align: right;\">\n",
       "      <th></th>\n",
       "      <th>aw_lat</th>\n",
       "      <th>aw_long</th>\n",
       "      <th>aw_city</th>\n",
       "      <th>aw_state</th>\n",
       "      <th>aw_zip</th>\n",
       "      <th>aw_coord</th>\n",
       "    </tr>\n",
       "  </thead>\n",
       "  <tbody>\n",
       "    <tr>\n",
       "      <td>0</td>\n",
       "      <td>33.433324</td>\n",
       "      <td>-112.207797</td>\n",
       "      <td>Phoenix</td>\n",
       "      <td>Arizona</td>\n",
       "      <td>85043</td>\n",
       "      <td>(33.43, -112.21)</td>\n",
       "    </tr>\n",
       "    <tr>\n",
       "      <td>1</td>\n",
       "      <td>33.412196</td>\n",
       "      <td>-112.421938</td>\n",
       "      <td>Goodyear</td>\n",
       "      <td>Arizona</td>\n",
       "      <td>85338</td>\n",
       "      <td>(33.41, -112.42)</td>\n",
       "    </tr>\n",
       "    <tr>\n",
       "      <td>2</td>\n",
       "      <td>33.431192</td>\n",
       "      <td>-112.156569</td>\n",
       "      <td>Phoenix</td>\n",
       "      <td>Arizona</td>\n",
       "      <td>85043</td>\n",
       "      <td>(33.43, -112.16)</td>\n",
       "    </tr>\n",
       "    <tr>\n",
       "      <td>3</td>\n",
       "      <td>33.448519</td>\n",
       "      <td>-112.221179</td>\n",
       "      <td>Phoenix</td>\n",
       "      <td>Arizona</td>\n",
       "      <td>85043</td>\n",
       "      <td>(33.45, -112.22)</td>\n",
       "    </tr>\n",
       "    <tr>\n",
       "      <td>4</td>\n",
       "      <td>33.431180</td>\n",
       "      <td>-112.159493</td>\n",
       "      <td>Phoenix</td>\n",
       "      <td>Arizona</td>\n",
       "      <td>85043</td>\n",
       "      <td>(33.43, -112.16)</td>\n",
       "    </tr>\n",
       "  </tbody>\n",
       "</table>\n",
       "</div>"
      ],
      "text/plain": [
       "      aw_lat     aw_long   aw_city aw_state  aw_zip          aw_coord\n",
       "0  33.433324 -112.207797   Phoenix  Arizona   85043  (33.43, -112.21)\n",
       "1  33.412196 -112.421938  Goodyear  Arizona   85338  (33.41, -112.42)\n",
       "2  33.431192 -112.156569   Phoenix  Arizona   85043  (33.43, -112.16)\n",
       "3  33.448519 -112.221179   Phoenix  Arizona   85043  (33.45, -112.22)\n",
       "4  33.431180 -112.159493   Phoenix  Arizona   85043  (33.43, -112.16)"
      ]
     },
     "execution_count": 18,
     "metadata": {},
     "output_type": "execute_result"
    }
   ],
   "source": [
    "df.head()\n",
    "        "
   ]
  },
  {
   "cell_type": "code",
   "execution_count": 19,
   "metadata": {},
   "outputs": [],
   "source": [
    " df['aw_zip_str'] = df['aw_zip'].apply(lambda x: str(x))"
   ]
  },
  {
   "cell_type": "code",
   "execution_count": 34,
   "metadata": {},
   "outputs": [
    {
     "data": {
      "text/html": [
       "<div>\n",
       "<style scoped>\n",
       "    .dataframe tbody tr th:only-of-type {\n",
       "        vertical-align: middle;\n",
       "    }\n",
       "\n",
       "    .dataframe tbody tr th {\n",
       "        vertical-align: top;\n",
       "    }\n",
       "\n",
       "    .dataframe thead th {\n",
       "        text-align: right;\n",
       "    }\n",
       "</style>\n",
       "<table border=\"1\" class=\"dataframe\">\n",
       "  <thead>\n",
       "    <tr style=\"text-align: right;\">\n",
       "      <th></th>\n",
       "      <th>aw_lat</th>\n",
       "      <th>aw_long</th>\n",
       "      <th>aw_city</th>\n",
       "      <th>aw_state</th>\n",
       "      <th>aw_zip</th>\n",
       "      <th>aw_coord</th>\n",
       "      <th>aw_zip_str</th>\n",
       "    </tr>\n",
       "  </thead>\n",
       "  <tbody>\n",
       "    <tr>\n",
       "      <td>0</td>\n",
       "      <td>33.433324</td>\n",
       "      <td>-112.207797</td>\n",
       "      <td>Phoenix</td>\n",
       "      <td>Arizona</td>\n",
       "      <td>85043</td>\n",
       "      <td>(33.43, -112.21)</td>\n",
       "      <td>85043</td>\n",
       "    </tr>\n",
       "    <tr>\n",
       "      <td>1</td>\n",
       "      <td>33.412196</td>\n",
       "      <td>-112.421938</td>\n",
       "      <td>Goodyear</td>\n",
       "      <td>Arizona</td>\n",
       "      <td>85338</td>\n",
       "      <td>(33.41, -112.42)</td>\n",
       "      <td>85338</td>\n",
       "    </tr>\n",
       "    <tr>\n",
       "      <td>2</td>\n",
       "      <td>33.431192</td>\n",
       "      <td>-112.156569</td>\n",
       "      <td>Phoenix</td>\n",
       "      <td>Arizona</td>\n",
       "      <td>85043</td>\n",
       "      <td>(33.43, -112.16)</td>\n",
       "      <td>85043</td>\n",
       "    </tr>\n",
       "    <tr>\n",
       "      <td>3</td>\n",
       "      <td>33.448519</td>\n",
       "      <td>-112.221179</td>\n",
       "      <td>Phoenix</td>\n",
       "      <td>Arizona</td>\n",
       "      <td>85043</td>\n",
       "      <td>(33.45, -112.22)</td>\n",
       "      <td>85043</td>\n",
       "    </tr>\n",
       "    <tr>\n",
       "      <td>4</td>\n",
       "      <td>33.431180</td>\n",
       "      <td>-112.159493</td>\n",
       "      <td>Phoenix</td>\n",
       "      <td>Arizona</td>\n",
       "      <td>85043</td>\n",
       "      <td>(33.43, -112.16)</td>\n",
       "      <td>85043</td>\n",
       "    </tr>\n",
       "    <tr>\n",
       "      <td>5</td>\n",
       "      <td>33.441742</td>\n",
       "      <td>-112.229580</td>\n",
       "      <td>Tolleson</td>\n",
       "      <td>Arizona</td>\n",
       "      <td>85353</td>\n",
       "      <td>(33.44, -112.23)</td>\n",
       "      <td>85353</td>\n",
       "    </tr>\n",
       "    <tr>\n",
       "      <td>6</td>\n",
       "      <td>34.128411</td>\n",
       "      <td>-117.422592</td>\n",
       "      <td>Rialto</td>\n",
       "      <td>California</td>\n",
       "      <td>92376</td>\n",
       "      <td>(34.13, -117.42)</td>\n",
       "      <td>92376</td>\n",
       "    </tr>\n",
       "    <tr>\n",
       "      <td>7</td>\n",
       "      <td>34.079646</td>\n",
       "      <td>-117.275321</td>\n",
       "      <td>San Bernardino</td>\n",
       "      <td>California</td>\n",
       "      <td>92408</td>\n",
       "      <td>(34.08, -117.28)</td>\n",
       "      <td>92408</td>\n",
       "    </tr>\n",
       "    <tr>\n",
       "      <td>8</td>\n",
       "      <td>37.734826</td>\n",
       "      <td>-121.531485</td>\n",
       "      <td>Tracy</td>\n",
       "      <td>California</td>\n",
       "      <td>95377</td>\n",
       "      <td>(37.73, -121.53)</td>\n",
       "      <td>95377</td>\n",
       "    </tr>\n",
       "    <tr>\n",
       "      <td>9</td>\n",
       "      <td>34.077563</td>\n",
       "      <td>-117.233016</td>\n",
       "      <td>San Bernardino</td>\n",
       "      <td>California</td>\n",
       "      <td>92408</td>\n",
       "      <td>(34.08, -117.23)</td>\n",
       "      <td>92408</td>\n",
       "    </tr>\n",
       "  </tbody>\n",
       "</table>\n",
       "</div>"
      ],
      "text/plain": [
       "      aw_lat     aw_long         aw_city    aw_state  aw_zip  \\\n",
       "0  33.433324 -112.207797         Phoenix     Arizona   85043   \n",
       "1  33.412196 -112.421938        Goodyear     Arizona   85338   \n",
       "2  33.431192 -112.156569         Phoenix     Arizona   85043   \n",
       "3  33.448519 -112.221179         Phoenix     Arizona   85043   \n",
       "4  33.431180 -112.159493         Phoenix     Arizona   85043   \n",
       "5  33.441742 -112.229580        Tolleson     Arizona   85353   \n",
       "6  34.128411 -117.422592          Rialto  California   92376   \n",
       "7  34.079646 -117.275321  San Bernardino  California   92408   \n",
       "8  37.734826 -121.531485           Tracy  California   95377   \n",
       "9  34.077563 -117.233016  San Bernardino  California   92408   \n",
       "\n",
       "           aw_coord aw_zip_str  \n",
       "0  (33.43, -112.21)      85043  \n",
       "1  (33.41, -112.42)      85338  \n",
       "2  (33.43, -112.16)      85043  \n",
       "3  (33.45, -112.22)      85043  \n",
       "4  (33.43, -112.16)      85043  \n",
       "5  (33.44, -112.23)      85353  \n",
       "6  (34.13, -117.42)      92376  \n",
       "7  (34.08, -117.28)      92408  \n",
       "8  (37.73, -121.53)      95377  \n",
       "9  (34.08, -117.23)      92408  "
      ]
     },
     "execution_count": 34,
     "metadata": {},
     "output_type": "execute_result"
    }
   ],
   "source": [
    "df.head(10)"
   ]
  },
  {
   "cell_type": "code",
   "execution_count": 57,
   "metadata": {},
   "outputs": [],
   "source": [
    "#test\n",
    "location1 = [1,1,2,4,7,6]\n",
    "location2 = [3,1,4,10]"
   ]
  },
  {
   "cell_type": "code",
   "execution_count": 58,
   "metadata": {},
   "outputs": [
    {
     "name": "stdout",
     "output_type": "stream",
     "text": [
      "0\n",
      "0\n",
      "1\n",
      "0\n",
      "3\n",
      "2\n"
     ]
    },
    {
     "data": {
      "text/plain": [
       "[0, 0, 1, 0, 3, 2]"
      ]
     },
     "execution_count": 58,
     "metadata": {},
     "output_type": "execute_result"
    }
   ],
   "source": [
    "closest = []\n",
    "for location in location1:\n",
    "    distances = []\n",
    "    \n",
    "    for loc in location2:\n",
    "        \n",
    "        d = abs(location - loc)\n",
    "        distances.append(d)\n",
    "    near = min(distances)\n",
    "    print(near)\n",
    "    closest.append(near)\n",
    "    \n",
    "\n",
    "closest"
   ]
  },
  {
   "cell_type": "code",
   "execution_count": 23,
   "metadata": {},
   "outputs": [],
   "source": [
    "from itertools import combinations\n",
    "    "
   ]
  },
  {
   "cell_type": "markdown",
   "metadata": {},
   "source": [
    "### Function to automate feature selection"
   ]
  },
  {
   "cell_type": "code",
   "execution_count": 31,
   "metadata": {},
   "outputs": [],
   "source": [
    "n_cols= len(df.columns)"
   ]
  },
  {
   "cell_type": "code",
   "execution_count": 32,
   "metadata": {},
   "outputs": [
    {
     "data": {
      "text/plain": [
       "[(0, 1, 2),\n",
       " (0, 1, 3),\n",
       " (0, 1, 4),\n",
       " (0, 1, 5),\n",
       " (0, 1, 6),\n",
       " (0, 2, 3),\n",
       " (0, 2, 4),\n",
       " (0, 2, 5),\n",
       " (0, 2, 6),\n",
       " (0, 3, 4),\n",
       " (0, 3, 5),\n",
       " (0, 3, 6),\n",
       " (0, 4, 5),\n",
       " (0, 4, 6),\n",
       " (0, 5, 6),\n",
       " (1, 2, 3),\n",
       " (1, 2, 4),\n",
       " (1, 2, 5),\n",
       " (1, 2, 6),\n",
       " (1, 3, 4),\n",
       " (1, 3, 5),\n",
       " (1, 3, 6),\n",
       " (1, 4, 5),\n",
       " (1, 4, 6),\n",
       " (1, 5, 6),\n",
       " (2, 3, 4),\n",
       " (2, 3, 5),\n",
       " (2, 3, 6),\n",
       " (2, 4, 5),\n",
       " (2, 4, 6),\n",
       " (2, 5, 6),\n",
       " (3, 4, 5),\n",
       " (3, 4, 6),\n",
       " (3, 5, 6),\n",
       " (4, 5, 6)]"
      ]
     },
     "execution_count": 32,
     "metadata": {},
     "output_type": "execute_result"
    }
   ],
   "source": [
    "n = list(range(n_cols))\n",
    "k=3\n",
    "list(combinations(n,k))"
   ]
  },
  {
   "cell_type": "code",
   "execution_count": 25,
   "metadata": {},
   "outputs": [
    {
     "data": {
      "text/plain": [
       "['aw_lat',\n",
       " 'aw_long',\n",
       " 'aw_city',\n",
       " 'aw_state',\n",
       " 'aw_zip',\n",
       " 'aw_coord',\n",
       " 'aw_zip_str']"
      ]
     },
     "execution_count": 25,
     "metadata": {},
     "output_type": "execute_result"
    }
   ],
   "source": [
    "list(df.columns)"
   ]
  },
  {
   "cell_type": "code",
   "execution_count": 27,
   "metadata": {},
   "outputs": [],
   "source": [
    "# pip install folium"
   ]
  },
  {
   "cell_type": "code",
   "execution_count": 28,
   "metadata": {},
   "outputs": [],
   "source": [
    "import folium\n",
    "from folium.plugins import MarkerCluster"
   ]
  },
  {
   "cell_type": "code",
   "execution_count": 29,
   "metadata": {},
   "outputs": [
    {
     "data": {
      "text/plain": [
       "184"
      ]
     },
     "execution_count": 29,
     "metadata": {},
     "output_type": "execute_result"
    }
   ],
   "source": [
    "locations = df[['aw_lat', 'aw_long']]\n",
    "locationlist = locations.values.tolist()\n",
    "len(locationlist)"
   ]
  },
  {
   "cell_type": "code",
   "execution_count": 33,
   "metadata": {},
   "outputs": [
    {
     "data": {
      "text/html": [
       "<div style=\"width:100%;\"><div style=\"position:relative;width:100%;height:0;padding-bottom:60%;\"><iframe src=\"data:text/html;charset=utf-8;base64,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\" style=\"position:absolute;width:100%;height:100%;left:0;top:0;border:none !important;\" allowfullscreen webkitallowfullscreen mozallowfullscreen></iframe></div></div>"
      ],
      "text/plain": [
       "<folium.folium.Map at 0x20f3f86bc18>"
      ]
     },
     "execution_count": 33,
     "metadata": {},
     "output_type": "execute_result"
    }
   ],
   "source": [
    "aw_map = folium.Map(location=[39.83, -98.59], tiles='CartoDB positron', zoom_start=4)\n",
    "\n",
    "marker_cluster = MarkerCluster().add_to(aw_map)\n",
    "\n",
    "for point in range(0, len(locationlist)):\n",
    "    folium.Marker(locationlist[point], popup=df['aw_zip_str'][point], icon=folium.Icon(color='orange', icon_color='white', angle=0)).add_to(marker_cluster)\n",
    "aw_map"
   ]
  },
  {
   "cell_type": "code",
   "execution_count": null,
   "metadata": {},
   "outputs": [],
   "source": []
  }
 ],
 "metadata": {
  "kernelspec": {
   "display_name": "Python 3",
   "language": "python",
   "name": "python3"
  },
  "language_info": {
   "codemirror_mode": {
    "name": "ipython",
    "version": 3
   },
   "file_extension": ".py",
   "mimetype": "text/x-python",
   "name": "python",
   "nbconvert_exporter": "python",
   "pygments_lexer": "ipython3",
   "version": "3.6.9"
  }
 },
 "nbformat": 4,
 "nbformat_minor": 2
}
