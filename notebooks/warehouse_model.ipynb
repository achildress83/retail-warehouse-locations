{
 "cells": [
  {
   "cell_type": "markdown",
   "metadata": {},
   "source": [
    "# Predicting Retail Warehouse Locations\n",
    "## Introduction\n",
    "Logistics has become a hot area for investment across the supply chain, from startups disrupting the trucking space all the way down to the commercial real estate on which warehouses are built. Major retailers like Amazon and Walmart are ever expanding their warehouse footprint in competition with each other to get goods and services to customers as fast as possible and at the best price – this requires scale. Moreover, US warehouse square footage is expected to reach 15 billion by 2023.\n",
    "\n",
    "The average age of a U.S. warehouse is 34 years, according to a survey by real estate services firm CBRE. And that likely won't cut it for a retail industry that's moving increasingly toward e-commerce and fulfilling online orders for customers same day. In surveying facilities across 56 markets throughout the country, CBRE found most warehouses built before about 2005 lack modern upgrades: Ceilings are low, flooring is uneven and space is tight.\n",
    "\n",
    "New construction of facilities that retailers are increasingly hungry for has been hitting the West and South, including California's Inland Empire, Las Vegas, Phoenix and Atlanta. Industrial land plots of 5 to 10 acres, which typically house distribution centers for completing \"last-mile\" deliveries, watched their prices soar to more than 250,000 USD per acre by the end of 2017, up from roughly 200,000 USD the year before.\n",
    "\n",
    "With this as the backdrop, our goal is to build a classification model to predict high probability zones for future warehouse locations.\n",
    "\n",
    "## Methodology\n",
    "### County-Level Approach\n",
    "Our analysis included 2364 out of roughly 3000 counties in the United States. This provided a good combination of practicality and interpretability. Analysis was narrowed to Amazon and Walmart locations.\n",
    "### Data Sources\n",
    "Data primarily sourced from:\n",
    "U.S. Census Bureau ACS Survey\n",
    "Zillow Home Value Index\n",
    "USDA Economic Research Service Surveys\n",
    "Publicly-available warehouse location data\n",
    "### Analysis of Key Demographic Information\n",
    "Demographic characteristics were examined for prediction\n",
    "Including: population density, median household income, unemployment rate, education level, net migration rate.\n",
    "### Modeling \n",
    "We used Logistic Regression to build models to estimate the relative probability of the eestablishment of future warehouse locations.\n"
   ]
  },
  {
   "cell_type": "code",
   "execution_count": 26,
   "metadata": {},
   "outputs": [],
   "source": [
    "import numpy as np\n",
    "import pandas as pd\n",
    "import matplotlib.pyplot as plt\n",
    "%matplotlib inline\n",
    "import seaborn as sns\n",
    "from itertools import combinations\n",
    "from imblearn.over_sampling import SMOTE as SMOTE_imb\n",
    "from imblearn.pipeline import Pipeline as imb\n",
    "from sklearn.metrics import roc_curve\n"
   ]
  },
  {
   "cell_type": "code",
   "execution_count": 106,
   "metadata": {},
   "outputs": [],
   "source": [
    "%run warehouse_functions.py"
   ]
  },
  {
   "cell_type": "code",
   "execution_count": 28,
   "metadata": {},
   "outputs": [
    {
     "data": {
      "text/html": [
       "<div>\n",
       "<style scoped>\n",
       "    .dataframe tbody tr th:only-of-type {\n",
       "        vertical-align: middle;\n",
       "    }\n",
       "\n",
       "    .dataframe tbody tr th {\n",
       "        vertical-align: top;\n",
       "    }\n",
       "\n",
       "    .dataframe thead th {\n",
       "        text-align: right;\n",
       "    }\n",
       "</style>\n",
       "<table border=\"1\" class=\"dataframe\">\n",
       "  <thead>\n",
       "    <tr style=\"text-align: right;\">\n",
       "      <th></th>\n",
       "      <th>county</th>\n",
       "      <th>state</th>\n",
       "      <th>state_abbrev</th>\n",
       "      <th>size_rank</th>\n",
       "      <th>avg_home_price</th>\n",
       "      <th>area_sq_mi</th>\n",
       "      <th>unemployment_rate</th>\n",
       "      <th>unemployment_change</th>\n",
       "      <th>less_high_school</th>\n",
       "      <th>high_school</th>\n",
       "      <th>...</th>\n",
       "      <th>pop_growth</th>\n",
       "      <th>poverty_rate</th>\n",
       "      <th>median_hh_income</th>\n",
       "      <th>property_tax_rate</th>\n",
       "      <th>amazon_indicator</th>\n",
       "      <th>walmart_indicator</th>\n",
       "      <th>warehouse_target</th>\n",
       "      <th>pop_density</th>\n",
       "      <th>latitude</th>\n",
       "      <th>longitude</th>\n",
       "    </tr>\n",
       "  </thead>\n",
       "  <tbody>\n",
       "    <tr>\n",
       "      <td>0</td>\n",
       "      <td>Los Angeles County</td>\n",
       "      <td>California</td>\n",
       "      <td>CA</td>\n",
       "      <td>1</td>\n",
       "      <td>560333.416667</td>\n",
       "      <td>4750.94</td>\n",
       "      <td>4.8</td>\n",
       "      <td>-7.7</td>\n",
       "      <td>21.8</td>\n",
       "      <td>20.7</td>\n",
       "      <td>...</td>\n",
       "      <td>3.016829</td>\n",
       "      <td>14.9</td>\n",
       "      <td>64912</td>\n",
       "      <td>0.699057</td>\n",
       "      <td>0</td>\n",
       "      <td>1</td>\n",
       "      <td>1</td>\n",
       "      <td>2129.843568</td>\n",
       "      <td>34.315507</td>\n",
       "      <td>-118.209681</td>\n",
       "    </tr>\n",
       "    <tr>\n",
       "      <td>1</td>\n",
       "      <td>San Diego County</td>\n",
       "      <td>California</td>\n",
       "      <td>CA</td>\n",
       "      <td>5</td>\n",
       "      <td>530174.833333</td>\n",
       "      <td>4525.68</td>\n",
       "      <td>4.0</td>\n",
       "      <td>-6.8</td>\n",
       "      <td>13.3</td>\n",
       "      <td>18.6</td>\n",
       "      <td>...</td>\n",
       "      <td>7.158882</td>\n",
       "      <td>11.9</td>\n",
       "      <td>76048</td>\n",
       "      <td>0.699057</td>\n",
       "      <td>0</td>\n",
       "      <td>0</td>\n",
       "      <td>0</td>\n",
       "      <td>734.799632</td>\n",
       "      <td>32.963784</td>\n",
       "      <td>-116.770628</td>\n",
       "    </tr>\n",
       "    <tr>\n",
       "      <td>2</td>\n",
       "      <td>Orange County</td>\n",
       "      <td>California</td>\n",
       "      <td>CA</td>\n",
       "      <td>6</td>\n",
       "      <td>670382.666667</td>\n",
       "      <td>948.07</td>\n",
       "      <td>3.5</td>\n",
       "      <td>-6.2</td>\n",
       "      <td>15.3</td>\n",
       "      <td>17.3</td>\n",
       "      <td>...</td>\n",
       "      <td>5.416470</td>\n",
       "      <td>11.5</td>\n",
       "      <td>86031</td>\n",
       "      <td>0.699057</td>\n",
       "      <td>0</td>\n",
       "      <td>0</td>\n",
       "      <td>0</td>\n",
       "      <td>3354.129969</td>\n",
       "      <td>33.750038</td>\n",
       "      <td>-117.870493</td>\n",
       "    </tr>\n",
       "    <tr>\n",
       "      <td>3</td>\n",
       "      <td>Riverside County</td>\n",
       "      <td>California</td>\n",
       "      <td>CA</td>\n",
       "      <td>11</td>\n",
       "      <td>341060.000000</td>\n",
       "      <td>7303.42</td>\n",
       "      <td>5.2</td>\n",
       "      <td>-8.6</td>\n",
       "      <td>18.9</td>\n",
       "      <td>26.4</td>\n",
       "      <td>...</td>\n",
       "      <td>9.791375</td>\n",
       "      <td>12.9</td>\n",
       "      <td>63776</td>\n",
       "      <td>0.699057</td>\n",
       "      <td>1</td>\n",
       "      <td>1</td>\n",
       "      <td>1</td>\n",
       "      <td>330.971517</td>\n",
       "      <td>33.721999</td>\n",
       "      <td>-116.037247</td>\n",
       "    </tr>\n",
       "    <tr>\n",
       "      <td>4</td>\n",
       "      <td>San Bernardino County</td>\n",
       "      <td>California</td>\n",
       "      <td>CA</td>\n",
       "      <td>12</td>\n",
       "      <td>307173.166667</td>\n",
       "      <td>20104.83</td>\n",
       "      <td>4.9</td>\n",
       "      <td>-8.6</td>\n",
       "      <td>20.8</td>\n",
       "      <td>26.2</td>\n",
       "      <td>...</td>\n",
       "      <td>5.502104</td>\n",
       "      <td>16.0</td>\n",
       "      <td>60270</td>\n",
       "      <td>0.699057</td>\n",
       "      <td>1</td>\n",
       "      <td>1</td>\n",
       "      <td>1</td>\n",
       "      <td>107.098792</td>\n",
       "      <td>34.825302</td>\n",
       "      <td>-116.083314</td>\n",
       "    </tr>\n",
       "  </tbody>\n",
       "</table>\n",
       "<p>5 rows × 25 columns</p>\n",
       "</div>"
      ],
      "text/plain": [
       "                  county       state state_abbrev  size_rank  avg_home_price  \\\n",
       "0     Los Angeles County  California           CA          1   560333.416667   \n",
       "1       San Diego County  California           CA          5   530174.833333   \n",
       "2          Orange County  California           CA          6   670382.666667   \n",
       "3       Riverside County  California           CA         11   341060.000000   \n",
       "4  San Bernardino County  California           CA         12   307173.166667   \n",
       "\n",
       "   area_sq_mi  unemployment_rate  unemployment_change  less_high_school  \\\n",
       "0     4750.94                4.8                 -7.7              21.8   \n",
       "1     4525.68                4.0                 -6.8              13.3   \n",
       "2      948.07                3.5                 -6.2              15.3   \n",
       "3     7303.42                5.2                 -8.6              18.9   \n",
       "4    20104.83                4.9                 -8.6              20.8   \n",
       "\n",
       "   high_school  ...  pop_growth  poverty_rate  median_hh_income  \\\n",
       "0         20.7  ...    3.016829          14.9             64912   \n",
       "1         18.6  ...    7.158882          11.9             76048   \n",
       "2         17.3  ...    5.416470          11.5             86031   \n",
       "3         26.4  ...    9.791375          12.9             63776   \n",
       "4         26.2  ...    5.502104          16.0             60270   \n",
       "\n",
       "   property_tax_rate  amazon_indicator  walmart_indicator  warehouse_target  \\\n",
       "0           0.699057                 0                  1                 1   \n",
       "1           0.699057                 0                  0                 0   \n",
       "2           0.699057                 0                  0                 0   \n",
       "3           0.699057                 1                  1                 1   \n",
       "4           0.699057                 1                  1                 1   \n",
       "\n",
       "   pop_density   latitude   longitude  \n",
       "0  2129.843568  34.315507 -118.209681  \n",
       "1   734.799632  32.963784 -116.770628  \n",
       "2  3354.129969  33.750038 -117.870493  \n",
       "3   330.971517  33.721999 -116.037247  \n",
       "4   107.098792  34.825302 -116.083314  \n",
       "\n",
       "[5 rows x 25 columns]"
      ]
     },
     "execution_count": 28,
     "metadata": {},
     "output_type": "execute_result"
    }
   ],
   "source": [
    "df = pd.read_csv('retail_warehouses.csv', index_col=0)\n",
    "df.head()"
   ]
  },
  {
   "cell_type": "code",
   "execution_count": 29,
   "metadata": {},
   "outputs": [
    {
     "name": "stdout",
     "output_type": "stream",
     "text": [
      "<class 'pandas.core.frame.DataFrame'>\n",
      "Int64Index: 2363 entries, 0 to 2362\n",
      "Data columns (total 25 columns):\n",
      "county                   2363 non-null object\n",
      "state                    2363 non-null object\n",
      "state_abbrev             2363 non-null object\n",
      "size_rank                2363 non-null int64\n",
      "avg_home_price           2363 non-null float64\n",
      "area_sq_mi               2363 non-null float64\n",
      "unemployment_rate        2363 non-null float64\n",
      "unemployment_change      2363 non-null float64\n",
      "less_high_school         2363 non-null float64\n",
      "high_school              2363 non-null float64\n",
      "college_or_associates    2363 non-null float64\n",
      "bachelors                2363 non-null float64\n",
      "population               2363 non-null int64\n",
      "int_migration_rate       2363 non-null float64\n",
      "net_migration_rate       2363 non-null float64\n",
      "pop_growth               2363 non-null float64\n",
      "poverty_rate             2363 non-null float64\n",
      "median_hh_income         2363 non-null int64\n",
      "property_tax_rate        2363 non-null float64\n",
      "amazon_indicator         2363 non-null int64\n",
      "walmart_indicator        2363 non-null int64\n",
      "warehouse_target         2363 non-null int64\n",
      "pop_density              2363 non-null float64\n",
      "latitude                 2363 non-null float64\n",
      "longitude                2363 non-null float64\n",
      "dtypes: float64(16), int64(6), object(3)\n",
      "memory usage: 480.0+ KB\n"
     ]
    }
   ],
   "source": [
    "df.info()"
   ]
  },
  {
   "cell_type": "markdown",
   "metadata": {},
   "source": [
    "### Hypothesis Test Features\n",
    "#### Null Hypothesis: There is no difference in mean between counties with Amazon and/or Walmart warehouses and those without\n",
    "#### Alternative Hypothesis: There is a difference in mean...\n",
    "The intuition here is that there is some internal framework that large logistics companies rely on when selection locations for their warehouses and that this preference translates to significant differences in countywide population parameters.  "
   ]
  },
  {
   "cell_type": "code",
   "execution_count": 30,
   "metadata": {},
   "outputs": [],
   "source": [
    "#defining the set of features we want to run hypothesis tests on\n",
    "hypothesis_cols = df.drop(['county','state','state_abbrev','amazon_indicator','walmart_indicator','warehouse_target'], axis=1)"
   ]
  },
  {
   "cell_type": "code",
   "execution_count": 31,
   "metadata": {},
   "outputs": [],
   "source": [
    "# divide the dataset in two: one set with counties where a warehouse is present, the other warehouse is absent\n",
    "present = df.loc[df['warehouse_target']==1, :]\n",
    "absent = df.loc[df['warehouse_target']==0, :]"
   ]
  },
  {
   "cell_type": "code",
   "execution_count": 32,
   "metadata": {},
   "outputs": [],
   "source": [
    "#list of 1000 replicates for each feature\n",
    "'''The idea here is that we have imbalanced populations, but we can simulate the drawing\n",
    "of 1000 mean sample statistics (replicates) for each feature set for counties where \n",
    "target=1 (Amazon and/or Walmart warehouse present) and where target=0 (Amazon and/or Walmart warehouse absent)'''\n",
    "means = []\n",
    "for feature in hypothesis_cols:\n",
    "    wh_present = present[feature].values\n",
    "    wh_absent = absent[feature].values\n",
    "    \n",
    "    means_present = draw_bs_reps(wh_present, np.mean, 1000)\n",
    "    means_absent = draw_bs_reps(wh_absent, np.mean, 1000)\n",
    "    mean_set = (means_present, means_absent)\n",
    "    means.append(mean_set)"
   ]
  },
  {
   "cell_type": "code",
   "execution_count": 33,
   "metadata": {},
   "outputs": [
    {
     "data": {
      "image/png": "[encoded data removed]",
      "text/plain": [
       "<Figure size 1080x1080 with 20 Axes>"
      ]
     },
     "metadata": {
      "needs_background": "light"
     },
     "output_type": "display_data"
    }
   ],
   "source": [
    "'''A visual Analysis of the distributions shows that some means are different, after building the first model\n",
    "with all independent variables, we build a second model to test the notion that selecting only features with \n",
    "different means will improve accuracy'''\n",
    "\n",
    "try: \n",
    "    hist_plot_1()\n",
    "except IndexError:\n",
    "    pass"
   ]
  },
  {
   "cell_type": "markdown",
   "metadata": {},
   "source": [
    "### Logistic Regression Model"
   ]
  },
  {
   "cell_type": "code",
   "execution_count": 34,
   "metadata": {},
   "outputs": [],
   "source": [
    "# Import libraries\n",
    "from sklearn.model_selection import train_test_split\n",
    "from sklearn.linear_model import LogisticRegression\n",
    "from sklearn.metrics import confusion_matrix, classification_report\n",
    "from sklearn.preprocessing import StandardScaler\n",
    "from sklearn.pipeline import Pipeline\n",
    "from sklearn.model_selection import GridSearchCV"
   ]
  },
  {
   "cell_type": "code",
   "execution_count": 59,
   "metadata": {},
   "outputs": [
    {
     "data": {
      "text/html": [
       "<div>\n",
       "<style scoped>\n",
       "    .dataframe tbody tr th:only-of-type {\n",
       "        vertical-align: middle;\n",
       "    }\n",
       "\n",
       "    .dataframe tbody tr th {\n",
       "        vertical-align: top;\n",
       "    }\n",
       "\n",
       "    .dataframe thead th {\n",
       "        text-align: right;\n",
       "    }\n",
       "</style>\n",
       "<table border=\"1\" class=\"dataframe\">\n",
       "  <thead>\n",
       "    <tr style=\"text-align: right;\">\n",
       "      <th></th>\n",
       "      <th>county</th>\n",
       "      <th>state</th>\n",
       "      <th>state_abbrev</th>\n",
       "      <th>size_rank</th>\n",
       "      <th>avg_home_price</th>\n",
       "      <th>area_sq_mi</th>\n",
       "      <th>unemployment_rate</th>\n",
       "      <th>unemployment_change</th>\n",
       "      <th>less_high_school</th>\n",
       "      <th>high_school</th>\n",
       "      <th>...</th>\n",
       "      <th>pop_growth</th>\n",
       "      <th>poverty_rate</th>\n",
       "      <th>median_hh_income</th>\n",
       "      <th>property_tax_rate</th>\n",
       "      <th>amazon_indicator</th>\n",
       "      <th>walmart_indicator</th>\n",
       "      <th>warehouse_target</th>\n",
       "      <th>pop_density</th>\n",
       "      <th>latitude</th>\n",
       "      <th>longitude</th>\n",
       "    </tr>\n",
       "  </thead>\n",
       "  <tbody>\n",
       "    <tr>\n",
       "      <td>0</td>\n",
       "      <td>Los Angeles County</td>\n",
       "      <td>California</td>\n",
       "      <td>CA</td>\n",
       "      <td>1</td>\n",
       "      <td>560333.416667</td>\n",
       "      <td>4750.94</td>\n",
       "      <td>4.8</td>\n",
       "      <td>-7.7</td>\n",
       "      <td>21.8</td>\n",
       "      <td>20.7</td>\n",
       "      <td>...</td>\n",
       "      <td>3.016829</td>\n",
       "      <td>14.9</td>\n",
       "      <td>64912</td>\n",
       "      <td>0.699057</td>\n",
       "      <td>0</td>\n",
       "      <td>1</td>\n",
       "      <td>1</td>\n",
       "      <td>2129.843568</td>\n",
       "      <td>34.315507</td>\n",
       "      <td>-118.209681</td>\n",
       "    </tr>\n",
       "    <tr>\n",
       "      <td>1</td>\n",
       "      <td>San Diego County</td>\n",
       "      <td>California</td>\n",
       "      <td>CA</td>\n",
       "      <td>5</td>\n",
       "      <td>530174.833333</td>\n",
       "      <td>4525.68</td>\n",
       "      <td>4.0</td>\n",
       "      <td>-6.8</td>\n",
       "      <td>13.3</td>\n",
       "      <td>18.6</td>\n",
       "      <td>...</td>\n",
       "      <td>7.158882</td>\n",
       "      <td>11.9</td>\n",
       "      <td>76048</td>\n",
       "      <td>0.699057</td>\n",
       "      <td>0</td>\n",
       "      <td>0</td>\n",
       "      <td>0</td>\n",
       "      <td>734.799632</td>\n",
       "      <td>32.963784</td>\n",
       "      <td>-116.770628</td>\n",
       "    </tr>\n",
       "    <tr>\n",
       "      <td>2</td>\n",
       "      <td>Orange County</td>\n",
       "      <td>California</td>\n",
       "      <td>CA</td>\n",
       "      <td>6</td>\n",
       "      <td>670382.666667</td>\n",
       "      <td>948.07</td>\n",
       "      <td>3.5</td>\n",
       "      <td>-6.2</td>\n",
       "      <td>15.3</td>\n",
       "      <td>17.3</td>\n",
       "      <td>...</td>\n",
       "      <td>5.416470</td>\n",
       "      <td>11.5</td>\n",
       "      <td>86031</td>\n",
       "      <td>0.699057</td>\n",
       "      <td>0</td>\n",
       "      <td>0</td>\n",
       "      <td>0</td>\n",
       "      <td>3354.129969</td>\n",
       "      <td>33.750038</td>\n",
       "      <td>-117.870493</td>\n",
       "    </tr>\n",
       "    <tr>\n",
       "      <td>3</td>\n",
       "      <td>Riverside County</td>\n",
       "      <td>California</td>\n",
       "      <td>CA</td>\n",
       "      <td>11</td>\n",
       "      <td>341060.000000</td>\n",
       "      <td>7303.42</td>\n",
       "      <td>5.2</td>\n",
       "      <td>-8.6</td>\n",
       "      <td>18.9</td>\n",
       "      <td>26.4</td>\n",
       "      <td>...</td>\n",
       "      <td>9.791375</td>\n",
       "      <td>12.9</td>\n",
       "      <td>63776</td>\n",
       "      <td>0.699057</td>\n",
       "      <td>1</td>\n",
       "      <td>1</td>\n",
       "      <td>1</td>\n",
       "      <td>330.971517</td>\n",
       "      <td>33.721999</td>\n",
       "      <td>-116.037247</td>\n",
       "    </tr>\n",
       "    <tr>\n",
       "      <td>4</td>\n",
       "      <td>San Bernardino County</td>\n",
       "      <td>California</td>\n",
       "      <td>CA</td>\n",
       "      <td>12</td>\n",
       "      <td>307173.166667</td>\n",
       "      <td>20104.83</td>\n",
       "      <td>4.9</td>\n",
       "      <td>-8.6</td>\n",
       "      <td>20.8</td>\n",
       "      <td>26.2</td>\n",
       "      <td>...</td>\n",
       "      <td>5.502104</td>\n",
       "      <td>16.0</td>\n",
       "      <td>60270</td>\n",
       "      <td>0.699057</td>\n",
       "      <td>1</td>\n",
       "      <td>1</td>\n",
       "      <td>1</td>\n",
       "      <td>107.098792</td>\n",
       "      <td>34.825302</td>\n",
       "      <td>-116.083314</td>\n",
       "    </tr>\n",
       "  </tbody>\n",
       "</table>\n",
       "<p>5 rows × 25 columns</p>\n",
       "</div>"
      ],
      "text/plain": [
       "                  county       state state_abbrev  size_rank  avg_home_price  \\\n",
       "0     Los Angeles County  California           CA          1   560333.416667   \n",
       "1       San Diego County  California           CA          5   530174.833333   \n",
       "2          Orange County  California           CA          6   670382.666667   \n",
       "3       Riverside County  California           CA         11   341060.000000   \n",
       "4  San Bernardino County  California           CA         12   307173.166667   \n",
       "\n",
       "   area_sq_mi  unemployment_rate  unemployment_change  less_high_school  \\\n",
       "0     4750.94                4.8                 -7.7              21.8   \n",
       "1     4525.68                4.0                 -6.8              13.3   \n",
       "2      948.07                3.5                 -6.2              15.3   \n",
       "3     7303.42                5.2                 -8.6              18.9   \n",
       "4    20104.83                4.9                 -8.6              20.8   \n",
       "\n",
       "   high_school  ...  pop_growth  poverty_rate  median_hh_income  \\\n",
       "0         20.7  ...    3.016829          14.9             64912   \n",
       "1         18.6  ...    7.158882          11.9             76048   \n",
       "2         17.3  ...    5.416470          11.5             86031   \n",
       "3         26.4  ...    9.791375          12.9             63776   \n",
       "4         26.2  ...    5.502104          16.0             60270   \n",
       "\n",
       "   property_tax_rate  amazon_indicator  walmart_indicator  warehouse_target  \\\n",
       "0           0.699057                 0                  1                 1   \n",
       "1           0.699057                 0                  0                 0   \n",
       "2           0.699057                 0                  0                 0   \n",
       "3           0.699057                 1                  1                 1   \n",
       "4           0.699057                 1                  1                 1   \n",
       "\n",
       "   pop_density   latitude   longitude  \n",
       "0  2129.843568  34.315507 -118.209681  \n",
       "1   734.799632  32.963784 -116.770628  \n",
       "2  3354.129969  33.750038 -117.870493  \n",
       "3   330.971517  33.721999 -116.037247  \n",
       "4   107.098792  34.825302 -116.083314  \n",
       "\n",
       "[5 rows x 25 columns]"
      ]
     },
     "execution_count": 59,
     "metadata": {},
     "output_type": "execute_result"
    }
   ],
   "source": [
    "df = pd.read_csv('retail_warehouses.csv', index_col=0)\n",
    "df.head()"
   ]
  },
  {
   "cell_type": "code",
   "execution_count": 60,
   "metadata": {},
   "outputs": [],
   "source": [
    "# set y variable\n",
    "y = df.warehouse_target\n"
   ]
  },
  {
   "cell_type": "code",
   "execution_count": 61,
   "metadata": {},
   "outputs": [],
   "source": [
    "# set X variable\n",
    "df = df.select_dtypes(include=['int','float'])\n",
    "df.drop(['latitude','longitude'],axis=1,inplace=True)\n",
    "X= df"
   ]
  },
  {
   "cell_type": "code",
   "execution_count": 62,
   "metadata": {},
   "outputs": [
    {
     "data": {
      "text/html": [
       "<div>\n",
       "<style scoped>\n",
       "    .dataframe tbody tr th:only-of-type {\n",
       "        vertical-align: middle;\n",
       "    }\n",
       "\n",
       "    .dataframe tbody tr th {\n",
       "        vertical-align: top;\n",
       "    }\n",
       "\n",
       "    .dataframe thead th {\n",
       "        text-align: right;\n",
       "    }\n",
       "</style>\n",
       "<table border=\"1\" class=\"dataframe\">\n",
       "  <thead>\n",
       "    <tr style=\"text-align: right;\">\n",
       "      <th></th>\n",
       "      <th>avg_home_price</th>\n",
       "      <th>area_sq_mi</th>\n",
       "      <th>unemployment_rate</th>\n",
       "      <th>unemployment_change</th>\n",
       "      <th>less_high_school</th>\n",
       "      <th>high_school</th>\n",
       "      <th>college_or_associates</th>\n",
       "      <th>bachelors</th>\n",
       "      <th>int_migration_rate</th>\n",
       "      <th>net_migration_rate</th>\n",
       "      <th>pop_growth</th>\n",
       "      <th>poverty_rate</th>\n",
       "      <th>property_tax_rate</th>\n",
       "      <th>pop_density</th>\n",
       "    </tr>\n",
       "  </thead>\n",
       "  <tbody>\n",
       "    <tr>\n",
       "      <td>0</td>\n",
       "      <td>560333.416667</td>\n",
       "      <td>4750.94</td>\n",
       "      <td>4.8</td>\n",
       "      <td>-7.7</td>\n",
       "      <td>21.8</td>\n",
       "      <td>20.7</td>\n",
       "      <td>26.2</td>\n",
       "      <td>31.2</td>\n",
       "      <td>3.456049</td>\n",
       "      <td>-5.558295</td>\n",
       "      <td>3.016829</td>\n",
       "      <td>14.9</td>\n",
       "      <td>0.699057</td>\n",
       "      <td>2129.843568</td>\n",
       "    </tr>\n",
       "    <tr>\n",
       "      <td>1</td>\n",
       "      <td>530174.833333</td>\n",
       "      <td>4525.68</td>\n",
       "      <td>4.0</td>\n",
       "      <td>-6.8</td>\n",
       "      <td>13.3</td>\n",
       "      <td>18.6</td>\n",
       "      <td>30.7</td>\n",
       "      <td>37.4</td>\n",
       "      <td>3.435935</td>\n",
       "      <td>-1.311985</td>\n",
       "      <td>7.158882</td>\n",
       "      <td>11.9</td>\n",
       "      <td>0.699057</td>\n",
       "      <td>734.799632</td>\n",
       "    </tr>\n",
       "    <tr>\n",
       "      <td>2</td>\n",
       "      <td>670382.666667</td>\n",
       "      <td>948.07</td>\n",
       "      <td>3.5</td>\n",
       "      <td>-6.2</td>\n",
       "      <td>15.3</td>\n",
       "      <td>17.3</td>\n",
       "      <td>28.3</td>\n",
       "      <td>39.1</td>\n",
       "      <td>3.266434</td>\n",
       "      <td>-2.430615</td>\n",
       "      <td>5.416470</td>\n",
       "      <td>11.5</td>\n",
       "      <td>0.699057</td>\n",
       "      <td>3354.129969</td>\n",
       "    </tr>\n",
       "    <tr>\n",
       "      <td>3</td>\n",
       "      <td>341060.000000</td>\n",
       "      <td>7303.42</td>\n",
       "      <td>5.2</td>\n",
       "      <td>-8.6</td>\n",
       "      <td>18.9</td>\n",
       "      <td>26.4</td>\n",
       "      <td>33.2</td>\n",
       "      <td>21.5</td>\n",
       "      <td>0.807951</td>\n",
       "      <td>8.932883</td>\n",
       "      <td>9.791375</td>\n",
       "      <td>12.9</td>\n",
       "      <td>0.699057</td>\n",
       "      <td>330.971517</td>\n",
       "    </tr>\n",
       "    <tr>\n",
       "      <td>4</td>\n",
       "      <td>307173.166667</td>\n",
       "      <td>20104.83</td>\n",
       "      <td>4.9</td>\n",
       "      <td>-8.6</td>\n",
       "      <td>20.8</td>\n",
       "      <td>26.2</td>\n",
       "      <td>33.2</td>\n",
       "      <td>19.8</td>\n",
       "      <td>0.721653</td>\n",
       "      <td>1.506749</td>\n",
       "      <td>5.502104</td>\n",
       "      <td>16.0</td>\n",
       "      <td>0.699057</td>\n",
       "      <td>107.098792</td>\n",
       "    </tr>\n",
       "  </tbody>\n",
       "</table>\n",
       "</div>"
      ],
      "text/plain": [
       "   avg_home_price  area_sq_mi  unemployment_rate  unemployment_change  \\\n",
       "0   560333.416667     4750.94                4.8                 -7.7   \n",
       "1   530174.833333     4525.68                4.0                 -6.8   \n",
       "2   670382.666667      948.07                3.5                 -6.2   \n",
       "3   341060.000000     7303.42                5.2                 -8.6   \n",
       "4   307173.166667    20104.83                4.9                 -8.6   \n",
       "\n",
       "   less_high_school  high_school  college_or_associates  bachelors  \\\n",
       "0              21.8         20.7                   26.2       31.2   \n",
       "1              13.3         18.6                   30.7       37.4   \n",
       "2              15.3         17.3                   28.3       39.1   \n",
       "3              18.9         26.4                   33.2       21.5   \n",
       "4              20.8         26.2                   33.2       19.8   \n",
       "\n",
       "   int_migration_rate  net_migration_rate  pop_growth  poverty_rate  \\\n",
       "0            3.456049           -5.558295    3.016829          14.9   \n",
       "1            3.435935           -1.311985    7.158882          11.9   \n",
       "2            3.266434           -2.430615    5.416470          11.5   \n",
       "3            0.807951            8.932883    9.791375          12.9   \n",
       "4            0.721653            1.506749    5.502104          16.0   \n",
       "\n",
       "   property_tax_rate  pop_density  \n",
       "0           0.699057  2129.843568  \n",
       "1           0.699057   734.799632  \n",
       "2           0.699057  3354.129969  \n",
       "3           0.699057   330.971517  \n",
       "4           0.699057   107.098792  "
      ]
     },
     "execution_count": 62,
     "metadata": {},
     "output_type": "execute_result"
    }
   ],
   "source": [
    "X.head()\n",
    "\n"
   ]
  },
  {
   "cell_type": "code",
   "execution_count": 63,
   "metadata": {},
   "outputs": [
    {
     "name": "stdout",
     "output_type": "stream",
     "text": [
      "Number transactions X_train dataset:  (1654, 14)\n",
      "Number transactions y_train dataset:  (1654,)\n",
      "Number transactions X_test dataset:  (709, 14)\n",
      "Number transactions y_test dataset:  (709,)\n"
     ]
    }
   ],
   "source": [
    "# split into 70:30 ratio\n",
    "X_train, X_test, y_train, y_test = train_test_split(X, y, test_size = 0.3, random_state = 0, stratify=y) \n",
    "  \n",
    "# describes info about train and test set \n",
    "print(\"Number transactions X_train dataset: \", X_train.shape) \n",
    "print(\"Number transactions y_train dataset: \", y_train.shape) \n",
    "print(\"Number transactions X_test dataset: \", X_test.shape) \n",
    "print(\"Number transactions y_test dataset: \", y_test.shape) "
   ]
  },
  {
   "cell_type": "code",
   "execution_count": 64,
   "metadata": {},
   "outputs": [
    {
     "name": "stdout",
     "output_type": "stream",
     "text": [
      "              precision    recall  f1-score   support\n",
      "\n",
      "           0       0.93      1.00      0.96       658\n",
      "           1       0.60      0.06      0.11        51\n",
      "\n",
      "    accuracy                           0.93       709\n",
      "   macro avg       0.77      0.53      0.54       709\n",
      "weighted avg       0.91      0.93      0.90       709\n",
      "\n"
     ]
    }
   ],
   "source": [
    "# logistic regression object \n",
    "lr = LogisticRegression() \n",
    "  \n",
    "# train the model on train set \n",
    "lr.fit(X_train, y_train.ravel()) \n",
    "  \n",
    "predictions = lr.predict(X_test) \n",
    "  \n",
    "# print classification report \n",
    "print(classification_report(y_test, predictions)) "
   ]
  },
  {
   "cell_type": "code",
   "execution_count": 65,
   "metadata": {},
   "outputs": [
    {
     "data": {
      "text/html": [
       "<div>\n",
       "<style scoped>\n",
       "    .dataframe tbody tr th:only-of-type {\n",
       "        vertical-align: middle;\n",
       "    }\n",
       "\n",
       "    .dataframe tbody tr th {\n",
       "        vertical-align: top;\n",
       "    }\n",
       "\n",
       "    .dataframe thead th {\n",
       "        text-align: right;\n",
       "    }\n",
       "</style>\n",
       "<table border=\"1\" class=\"dataframe\">\n",
       "  <thead>\n",
       "    <tr style=\"text-align: right;\">\n",
       "      <th></th>\n",
       "      <th>predicted 0</th>\n",
       "      <th>predicted 1</th>\n",
       "    </tr>\n",
       "  </thead>\n",
       "  <tbody>\n",
       "    <tr>\n",
       "      <td>actual 0</td>\n",
       "      <td>1530</td>\n",
       "      <td>6</td>\n",
       "    </tr>\n",
       "    <tr>\n",
       "      <td>actual 1</td>\n",
       "      <td>114</td>\n",
       "      <td>4</td>\n",
       "    </tr>\n",
       "  </tbody>\n",
       "</table>\n",
       "</div>"
      ],
      "text/plain": [
       "          predicted 0  predicted 1\n",
       "actual 0         1530            6\n",
       "actual 1          114            4"
      ]
     },
     "execution_count": 65,
     "metadata": {},
     "output_type": "execute_result"
    }
   ],
   "source": [
    "# confusion matrix on training data\n",
    "conf_matrix = pd.DataFrame(confusion_matrix(y_train, lr.predict(X_train)),\n",
    "                           index = ['actual 0', 'actual 1'], \n",
    "                           columns = ['predicted 0', 'predicted 1'])\n",
    "conf_matrix"
   ]
  },
  {
   "cell_type": "markdown",
   "metadata": {},
   "source": [
    "The model classified almost all observations as '0' ."
   ]
  },
  {
   "cell_type": "markdown",
   "metadata": {},
   "source": [
    "### Logistic Regression with SMOTE"
   ]
  },
  {
   "cell_type": "code",
   "execution_count": 66,
   "metadata": {},
   "outputs": [
    {
     "name": "stdout",
     "output_type": "stream",
     "text": [
      "Before OverSampling, counts of label '1': 118\n",
      "Before OverSampling, counts of label '0': 1536 \n",
      "\n",
      "After OverSampling, the shape of train_X: (3072, 14)\n",
      "After OverSampling, the shape of train_y: (3072,) \n",
      "\n",
      "After OverSampling, counts of label '1': 1536\n",
      "After OverSampling, counts of label '0': 1536\n"
     ]
    }
   ],
   "source": [
    "print(\"Before OverSampling, counts of label '1': {}\".format(sum(y_train == 1))) \n",
    "print(\"Before OverSampling, counts of label '0': {} \\n\".format(sum(y_train == 0))) \n",
    "  \n",
    "# import SMOTE module from imblearn library \n",
    "# pip install imblearn (if you don't have imblearn in your system) \n",
    "# from imblearn.over_sampling import SMOTE \n",
    "sm = SMOTE_imb(random_state = 2) \n",
    "X_train_res, y_train_res = sm.fit_sample(X_train, y_train.ravel()) \n",
    "  \n",
    "print('After OverSampling, the shape of train_X: {}'.format(X_train_res.shape)) \n",
    "print('After OverSampling, the shape of train_y: {} \\n'.format(y_train_res.shape)) \n",
    "  \n",
    "print(\"After OverSampling, counts of label '1': {}\".format(sum(y_train_res == 1))) \n",
    "print(\"After OverSampling, counts of label '0': {}\".format(sum(y_train_res == 0))) "
   ]
  },
  {
   "cell_type": "code",
   "execution_count": 68,
   "metadata": {},
   "outputs": [
    {
     "name": "stdout",
     "output_type": "stream",
     "text": [
      "              precision    recall  f1-score   support\n",
      "\n",
      "           0       0.96      0.86      0.90       658\n",
      "           1       0.21      0.49      0.29        51\n",
      "\n",
      "    accuracy                           0.83       709\n",
      "   macro avg       0.58      0.67      0.60       709\n",
      "weighted avg       0.90      0.83      0.86       709\n",
      "\n"
     ]
    }
   ],
   "source": [
    "lr1 = LogisticRegression() \n",
    "lr1.fit(X_train_res, y_train_res.ravel()) \n",
    "predictions = lr1.predict(X_test) \n",
    "\n",
    "# print classification report \n",
    "print(classification_report(y_test, predictions)) "
   ]
  },
  {
   "cell_type": "code",
   "execution_count": 69,
   "metadata": {
    "scrolled": true
   },
   "outputs": [
    {
     "data": {
      "text/html": [
       "<div>\n",
       "<style scoped>\n",
       "    .dataframe tbody tr th:only-of-type {\n",
       "        vertical-align: middle;\n",
       "    }\n",
       "\n",
       "    .dataframe tbody tr th {\n",
       "        vertical-align: top;\n",
       "    }\n",
       "\n",
       "    .dataframe thead th {\n",
       "        text-align: right;\n",
       "    }\n",
       "</style>\n",
       "<table border=\"1\" class=\"dataframe\">\n",
       "  <thead>\n",
       "    <tr style=\"text-align: right;\">\n",
       "      <th></th>\n",
       "      <th>predicted 0</th>\n",
       "      <th>predicted 1</th>\n",
       "    </tr>\n",
       "  </thead>\n",
       "  <tbody>\n",
       "    <tr>\n",
       "      <td>actual 0</td>\n",
       "      <td>1312</td>\n",
       "      <td>224</td>\n",
       "    </tr>\n",
       "    <tr>\n",
       "      <td>actual 1</td>\n",
       "      <td>45</td>\n",
       "      <td>73</td>\n",
       "    </tr>\n",
       "  </tbody>\n",
       "</table>\n",
       "</div>"
      ],
      "text/plain": [
       "          predicted 0  predicted 1\n",
       "actual 0         1312          224\n",
       "actual 1           45           73"
      ]
     },
     "execution_count": 69,
     "metadata": {},
     "output_type": "execute_result"
    }
   ],
   "source": [
    "# confusion matrix on training data\n",
    "conf_matrix = pd.DataFrame(confusion_matrix(y_train, lr1.predict(X_train)),\n",
    "                           index = ['actual 0', 'actual 1'], \n",
    "                           columns = ['predicted 0', 'predicted 1'])\n",
    "conf_matrix"
   ]
  },
  {
   "cell_type": "markdown",
   "metadata": {},
   "source": [
    "**SMOTE massively improved our true positive (Recall) rate, and overall accuracy.**\n",
    "\n",
    "</br>"
   ]
  },
  {
   "cell_type": "markdown",
   "metadata": {},
   "source": [
    "We will focus on the false positive values, as they are a proxy for potential warehouse locations."
   ]
  },
  {
   "cell_type": "markdown",
   "metadata": {},
   "source": [
    "### LR Model with Selected Features"
   ]
  },
  {
   "cell_type": "code",
   "execution_count": 73,
   "metadata": {},
   "outputs": [],
   "source": [
    "# we selected these features based on the simulated distributions in the hypothesis section\n",
    "# the features with significantly different distributions of sample means were retained\n",
    "X2 = hypothesis_cols[['size_rank', 'avg_home_price', 'high_school', 'bachelors', 'population', 'int_migration_rate', 'net_migration_rate',\n",
    "        'pop_growth', 'poverty_rate', 'median_hh_income', 'pop_density']]"
   ]
  },
  {
   "cell_type": "code",
   "execution_count": 74,
   "metadata": {},
   "outputs": [
    {
     "name": "stdout",
     "output_type": "stream",
     "text": [
      "Number transactions X_train dataset:  (1654, 11)\n",
      "Number transactions y_train dataset:  (1654,)\n",
      "Number transactions X_test dataset:  (709, 11)\n",
      "Number transactions y_test dataset:  (709,)\n"
     ]
    }
   ],
   "source": [
    "# split into 70:30 ratio\n",
    "X2_train, X2_test, y2_train, y2_test = train_test_split(X2, y, test_size = 0.3, random_state = 0, stratify=y) \n",
    "  \n",
    "# describes info about train and test set \n",
    "print(\"Number transactions X_train dataset: \", X2_train.shape) \n",
    "print(\"Number transactions y_train dataset: \", y2_train.shape) \n",
    "print(\"Number transactions X_test dataset: \", X2_test.shape) \n",
    "print(\"Number transactions y_test dataset: \", y2_test.shape) "
   ]
  },
  {
   "cell_type": "code",
   "execution_count": 75,
   "metadata": {},
   "outputs": [
    {
     "name": "stdout",
     "output_type": "stream",
     "text": [
      "              precision    recall  f1-score   support\n",
      "\n",
      "           0       0.93      1.00      0.96       658\n",
      "           1       0.62      0.10      0.17        51\n",
      "\n",
      "    accuracy                           0.93       709\n",
      "   macro avg       0.78      0.55      0.57       709\n",
      "weighted avg       0.91      0.93      0.91       709\n",
      "\n"
     ]
    }
   ],
   "source": [
    "# logistic regression object \n",
    "lr = LogisticRegression() \n",
    "  \n",
    "# train the model on train set \n",
    "lr.fit(X2_train, y2_train.ravel()) \n",
    "  \n",
    "pred2 = lr.predict(X2_test) \n",
    "  \n",
    "# print classification report \n",
    "print(classification_report(y2_test, pred2)) "
   ]
  },
  {
   "cell_type": "code",
   "execution_count": 76,
   "metadata": {},
   "outputs": [
    {
     "data": {
      "text/html": [
       "<div>\n",
       "<style scoped>\n",
       "    .dataframe tbody tr th:only-of-type {\n",
       "        vertical-align: middle;\n",
       "    }\n",
       "\n",
       "    .dataframe tbody tr th {\n",
       "        vertical-align: top;\n",
       "    }\n",
       "\n",
       "    .dataframe thead th {\n",
       "        text-align: right;\n",
       "    }\n",
       "</style>\n",
       "<table border=\"1\" class=\"dataframe\">\n",
       "  <thead>\n",
       "    <tr style=\"text-align: right;\">\n",
       "      <th></th>\n",
       "      <th>predicted 0</th>\n",
       "      <th>predicted 1</th>\n",
       "    </tr>\n",
       "  </thead>\n",
       "  <tbody>\n",
       "    <tr>\n",
       "      <td>actual 0</td>\n",
       "      <td>1528</td>\n",
       "      <td>8</td>\n",
       "    </tr>\n",
       "    <tr>\n",
       "      <td>actual 1</td>\n",
       "      <td>105</td>\n",
       "      <td>13</td>\n",
       "    </tr>\n",
       "  </tbody>\n",
       "</table>\n",
       "</div>"
      ],
      "text/plain": [
       "          predicted 0  predicted 1\n",
       "actual 0         1528            8\n",
       "actual 1          105           13"
      ]
     },
     "execution_count": 76,
     "metadata": {},
     "output_type": "execute_result"
    }
   ],
   "source": [
    "# confusion matrix on training data\n",
    "conf_matrix = pd.DataFrame(confusion_matrix(y2_train, lr.predict(X2_train)),\n",
    "                           index = ['actual 0', 'actual 1'], \n",
    "                           columns = ['predicted 0', 'predicted 1'])\n",
    "conf_matrix"
   ]
  },
  {
   "cell_type": "markdown",
   "metadata": {},
   "source": [
    "### LR Model with Selected Features and SMOTE"
   ]
  },
  {
   "cell_type": "code",
   "execution_count": 77,
   "metadata": {},
   "outputs": [
    {
     "name": "stdout",
     "output_type": "stream",
     "text": [
      "Before OverSampling, counts of label '1': 118\n",
      "Before OverSampling, counts of label '0': 1536 \n",
      "\n",
      "After OverSampling, the shape of train_X: (3072, 11)\n",
      "After OverSampling, the shape of train_y: (3072,) \n",
      "\n",
      "After OverSampling, counts of label '1': 1536\n",
      "After OverSampling, counts of label '0': 1536\n"
     ]
    }
   ],
   "source": [
    "print(\"Before OverSampling, counts of label '1': {}\".format(sum(y2_train == 1))) \n",
    "print(\"Before OverSampling, counts of label '0': {} \\n\".format(sum(y2_train == 0))) \n",
    " \n",
    "sm = SMOTE_imb(random_state = 2) \n",
    "X2_train_res, y2_train_res = sm.fit_sample(X2_train, y2_train.ravel()) \n",
    "  \n",
    "print('After OverSampling, the shape of train_X: {}'.format(X2_train_res.shape)) \n",
    "print('After OverSampling, the shape of train_y: {} \\n'.format(y2_train_res.shape)) \n",
    "  \n",
    "print(\"After OverSampling, counts of label '1': {}\".format(sum(y2_train_res == 1))) \n",
    "print(\"After OverSampling, counts of label '0': {}\".format(sum(y2_train_res == 0))) "
   ]
  },
  {
   "cell_type": "code",
   "execution_count": 78,
   "metadata": {},
   "outputs": [
    {
     "name": "stdout",
     "output_type": "stream",
     "text": [
      "              precision    recall  f1-score   support\n",
      "\n",
      "           0       0.98      0.75      0.85       658\n",
      "           1       0.19      0.76      0.31        51\n",
      "\n",
      "    accuracy                           0.75       709\n",
      "   macro avg       0.58      0.76      0.58       709\n",
      "weighted avg       0.92      0.75      0.81       709\n",
      "\n"
     ]
    }
   ],
   "source": [
    "lr2 = LogisticRegression() \n",
    "lr2.fit(X2_train_res, y2_train_res.ravel()) \n",
    "predictions = lr2.predict(X2_test) \n",
    "\n",
    "# print classification report \n",
    "print(classification_report(y2_test, predictions)) "
   ]
  },
  {
   "cell_type": "code",
   "execution_count": 79,
   "metadata": {
    "scrolled": true
   },
   "outputs": [
    {
     "data": {
      "text/html": [
       "<div>\n",
       "<style scoped>\n",
       "    .dataframe tbody tr th:only-of-type {\n",
       "        vertical-align: middle;\n",
       "    }\n",
       "\n",
       "    .dataframe tbody tr th {\n",
       "        vertical-align: top;\n",
       "    }\n",
       "\n",
       "    .dataframe thead th {\n",
       "        text-align: right;\n",
       "    }\n",
       "</style>\n",
       "<table border=\"1\" class=\"dataframe\">\n",
       "  <thead>\n",
       "    <tr style=\"text-align: right;\">\n",
       "      <th></th>\n",
       "      <th>predicted 0</th>\n",
       "      <th>predicted 1</th>\n",
       "    </tr>\n",
       "  </thead>\n",
       "  <tbody>\n",
       "    <tr>\n",
       "      <td>actual 0</td>\n",
       "      <td>1157</td>\n",
       "      <td>379</td>\n",
       "    </tr>\n",
       "    <tr>\n",
       "      <td>actual 1</td>\n",
       "      <td>28</td>\n",
       "      <td>90</td>\n",
       "    </tr>\n",
       "  </tbody>\n",
       "</table>\n",
       "</div>"
      ],
      "text/plain": [
       "          predicted 0  predicted 1\n",
       "actual 0         1157          379\n",
       "actual 1           28           90"
      ]
     },
     "execution_count": 79,
     "metadata": {},
     "output_type": "execute_result"
    }
   ],
   "source": [
    "# confusion matrix on training data\n",
    "conf_matrix = pd.DataFrame(confusion_matrix(y2_train, lr2.predict(X2_train)),\n",
    "                           index = ['actual 0', 'actual 1'], \n",
    "                           columns = ['predicted 0', 'predicted 1'])\n",
    "conf_matrix"
   ]
  },
  {
   "cell_type": "markdown",
   "metadata": {},
   "source": [
    "#### The SMOTE model with selected features is an improvement over the SMOTE with all features"
   ]
  },
  {
   "cell_type": "markdown",
   "metadata": {},
   "source": [
    "### Using the selected features, we built a pipeline to tune the model"
   ]
  },
  {
   "cell_type": "code",
   "execution_count": 84,
   "metadata": {},
   "outputs": [
    {
     "name": "stdout",
     "output_type": "stream",
     "text": [
      "Fitting 5 folds for each of 2 candidates, totalling 10 fits\n"
     ]
    },
    {
     "name": "stderr",
     "output_type": "stream",
     "text": [
      "[Parallel(n_jobs=-1)]: Using backend LokyBackend with 8 concurrent workers.\n"
     ]
    },
    {
     "name": "stdout",
     "output_type": "stream",
     "text": [
      "Tuned Logistic Regression Parameter: {'lr__C': 1, 'lr__penalty': 'l2'}\n",
      "Tuned Logistic Regression Accuracy: 0.753968253968254\n"
     ]
    },
    {
     "name": "stderr",
     "output_type": "stream",
     "text": [
      "[Parallel(n_jobs=-1)]: Done   6 out of  10 | elapsed:    3.6s remaining:    2.3s\n",
      "[Parallel(n_jobs=-1)]: Done  10 out of  10 | elapsed:    3.6s finished\n"
     ]
    }
   ],
   "source": [
    "#Set up hyperparameter grid\n",
    "c_range = [1]\n",
    "param_grid = {'lr__C': c_range, 'lr__penalty': ['l1','l2']}\n",
    "\n",
    "# Set up pipeline\n",
    "steps = [('scaler', StandardScaler()), ('smt', SMOTE_imb(random_state=25)),\n",
    "        ('lr', LogisticRegression(max_iter=1000))]\n",
    "\n",
    "pipeline = imb(steps)\n",
    "\n",
    "# Instantiate GridSearchCV\n",
    "pipeline_cv = GridSearchCV(pipeline, param_grid, cv=5, n_jobs=-1, verbose=1)\n",
    "\n",
    "# Create training and test sets\n",
    "X_train, X_test, y_train, y_test = train_test_split(X2, y, test_size = 0.2, stratify=y, random_state=25)\n",
    "\n",
    "# Fit the pipeline to the training data\n",
    "pipeline_cv.fit(X_train, y_train)\n",
    "\n",
    "# Print optimal parameters and best score\n",
    "print(\"Tuned Logistic Regression Parameter: {}\".format(pipeline_cv.best_params_))\n",
    "print(\"Tuned Logistic Regression Accuracy: {}\".format(pipeline_cv.best_score_))"
   ]
  },
  {
   "cell_type": "code",
   "execution_count": 87,
   "metadata": {},
   "outputs": [],
   "source": [
    "results = pipeline_cv.predict(X_test)"
   ]
  },
  {
   "cell_type": "code",
   "execution_count": 85,
   "metadata": {
    "scrolled": false
   },
   "outputs": [
    {
     "data": {
      "text/html": [
       "<div>\n",
       "<style scoped>\n",
       "    .dataframe tbody tr th:only-of-type {\n",
       "        vertical-align: middle;\n",
       "    }\n",
       "\n",
       "    .dataframe tbody tr th {\n",
       "        vertical-align: top;\n",
       "    }\n",
       "\n",
       "    .dataframe thead th {\n",
       "        text-align: right;\n",
       "    }\n",
       "</style>\n",
       "<table border=\"1\" class=\"dataframe\">\n",
       "  <thead>\n",
       "    <tr style=\"text-align: right;\">\n",
       "      <th></th>\n",
       "      <th>predicted 0</th>\n",
       "      <th>predicted 1</th>\n",
       "    </tr>\n",
       "  </thead>\n",
       "  <tbody>\n",
       "    <tr>\n",
       "      <td>actual 0</td>\n",
       "      <td>1328</td>\n",
       "      <td>427</td>\n",
       "    </tr>\n",
       "    <tr>\n",
       "      <td>actual 1</td>\n",
       "      <td>29</td>\n",
       "      <td>106</td>\n",
       "    </tr>\n",
       "  </tbody>\n",
       "</table>\n",
       "</div>"
      ],
      "text/plain": [
       "          predicted 0  predicted 1\n",
       "actual 0         1328          427\n",
       "actual 1           29          106"
      ]
     },
     "execution_count": 85,
     "metadata": {},
     "output_type": "execute_result"
    }
   ],
   "source": [
    "# confuction matrix on training data\n",
    "conf_matrix = pd.DataFrame(confusion_matrix(y_train, pipeline_cv.predict(X_train)),\n",
    "                           index = ['actual 0', 'actual 1'], \n",
    "                           columns = ['predicted 0', 'predicted 1'])\n",
    "conf_matrix"
   ]
  },
  {
   "cell_type": "code",
   "execution_count": 88,
   "metadata": {},
   "outputs": [
    {
     "data": {
      "text/html": [
       "<div>\n",
       "<style scoped>\n",
       "    .dataframe tbody tr th:only-of-type {\n",
       "        vertical-align: middle;\n",
       "    }\n",
       "\n",
       "    .dataframe tbody tr th {\n",
       "        vertical-align: top;\n",
       "    }\n",
       "\n",
       "    .dataframe thead th {\n",
       "        text-align: right;\n",
       "    }\n",
       "</style>\n",
       "<table border=\"1\" class=\"dataframe\">\n",
       "  <thead>\n",
       "    <tr style=\"text-align: right;\">\n",
       "      <th></th>\n",
       "      <th>predicted 0</th>\n",
       "      <th>predicted 1</th>\n",
       "    </tr>\n",
       "  </thead>\n",
       "  <tbody>\n",
       "    <tr>\n",
       "      <td>actual 0</td>\n",
       "      <td>322</td>\n",
       "      <td>117</td>\n",
       "    </tr>\n",
       "    <tr>\n",
       "      <td>actual 1</td>\n",
       "      <td>8</td>\n",
       "      <td>26</td>\n",
       "    </tr>\n",
       "  </tbody>\n",
       "</table>\n",
       "</div>"
      ],
      "text/plain": [
       "          predicted 0  predicted 1\n",
       "actual 0          322          117\n",
       "actual 1            8           26"
      ]
     },
     "execution_count": 88,
     "metadata": {},
     "output_type": "execute_result"
    }
   ],
   "source": [
    "#confusion matrix on test data\n",
    "conf_matrix = pd.DataFrame(confusion_matrix(y_test, results),\n",
    "                           index = ['actual 0', 'actual 1'], \n",
    "                           columns = ['predicted 0', 'predicted 1'])\n",
    "conf_matrix"
   ]
  },
  {
   "cell_type": "code",
   "execution_count": 86,
   "metadata": {},
   "outputs": [
    {
     "name": "stdout",
     "output_type": "stream",
     "text": [
      "              precision    recall  f1-score   support\n",
      "\n",
      "           0       0.98      0.76      0.85      1755\n",
      "           1       0.20      0.79      0.32       135\n",
      "\n",
      "    accuracy                           0.76      1890\n",
      "   macro avg       0.59      0.77      0.59      1890\n",
      "weighted avg       0.92      0.76      0.82      1890\n",
      "\n"
     ]
    }
   ],
   "source": [
    "# classification report on training data\n",
    "print(classification_report(y_train, pipeline_cv.predict(X_train)))"
   ]
  },
  {
   "cell_type": "code",
   "execution_count": 89,
   "metadata": {},
   "outputs": [
    {
     "name": "stdout",
     "output_type": "stream",
     "text": [
      "              precision    recall  f1-score   support\n",
      "\n",
      "           0       0.98      0.73      0.84       439\n",
      "           1       0.18      0.76      0.29        34\n",
      "\n",
      "    accuracy                           0.74       473\n",
      "   macro avg       0.58      0.75      0.57       473\n",
      "weighted avg       0.92      0.74      0.80       473\n",
      "\n"
     ]
    }
   ],
   "source": [
    "#classification report on test data\n",
    "print(classification_report(y_test, results))"
   ]
  },
  {
   "cell_type": "markdown",
   "metadata": {},
   "source": [
    "### ROC for Final Model"
   ]
  },
  {
   "cell_type": "code",
   "execution_count": 109,
   "metadata": {},
   "outputs": [
    {
     "data": {
      "text/plain": [
       "Text(0.5, 1.0, 'ROC Curve')"
      ]
     },
     "execution_count": 109,
     "metadata": {},
     "output_type": "execute_result"
    },
    {
     "data": {
      "image/png": "[encoded data removed]",
      "text/plain": [
       "<Figure size 432x288 with 1 Axes>"
      ]
     },
     "metadata": {
      "needs_background": "light"
     },
     "output_type": "display_data"
    }
   ],
   "source": [
    "# ROC curve\n",
    "# Compute predicted probabilities: y_pred_prob\n",
    "y_pred_prob = pipeline_cv.predict_proba(X_test)[:,1]\n",
    "\n",
    "# Generate ROC curve values: fpr, tpr, thresholds\n",
    "fpr, tpr, thresholds = roc_curve(y_test, y_pred_prob)\n",
    "\n",
    "# Plot ROC curve\n",
    "plt.plot([0, 1], [0, 1], 'k--')\n",
    "plt.plot(fpr, tpr)\n",
    "plt.xlabel('False Positive Rate')\n",
    "plt.ylabel('True Positive Rate')\n",
    "plt.title('ROC Curve')"
   ]
  },
  {
   "cell_type": "markdown",
   "metadata": {},
   "source": [
    "### Area under curve (AUC) for Final Model"
   ]
  },
  {
   "cell_type": "code",
   "execution_count": 110,
   "metadata": {},
   "outputs": [
    {
     "name": "stdout",
     "output_type": "stream",
     "text": [
      "AUC: 0.8534101567734155\n",
      "Fitting 5 folds for each of 2 candidates, totalling 10 fits\n"
     ]
    },
    {
     "name": "stderr",
     "output_type": "stream",
     "text": [
      "[Parallel(n_jobs=-1)]: Using backend LokyBackend with 8 concurrent workers.\n",
      "[Parallel(n_jobs=-1)]: Done   6 out of  10 | elapsed:    3.6s remaining:    2.3s\n",
      "[Parallel(n_jobs=-1)]: Done  10 out of  10 | elapsed:    3.6s finished\n",
      "[Parallel(n_jobs=-1)]: Using backend LokyBackend with 8 concurrent workers.\n"
     ]
    },
    {
     "name": "stdout",
     "output_type": "stream",
     "text": [
      "Fitting 5 folds for each of 2 candidates, totalling 10 fits\n",
      "Fitting 5 folds for each of 2 candidates, totalling 10 fits\n"
     ]
    },
    {
     "name": "stderr",
     "output_type": "stream",
     "text": [
      "[Parallel(n_jobs=-1)]: Done   6 out of  10 | elapsed:    0.0s remaining:    0.0s\n",
      "[Parallel(n_jobs=-1)]: Done  10 out of  10 | elapsed:    0.0s finished\n",
      "[Parallel(n_jobs=-1)]: Using backend LokyBackend with 8 concurrent workers.\n",
      "[Parallel(n_jobs=-1)]: Done   6 out of  10 | elapsed:    0.0s remaining:    0.0s\n",
      "[Parallel(n_jobs=-1)]: Done  10 out of  10 | elapsed:    0.0s finished\n"
     ]
    },
    {
     "name": "stdout",
     "output_type": "stream",
     "text": [
      "Fitting 5 folds for each of 2 candidates, totalling 10 fits\n",
      "Fitting 5 folds for each of 2 candidates, totalling 10 fits\n"
     ]
    },
    {
     "name": "stderr",
     "output_type": "stream",
     "text": [
      "[Parallel(n_jobs=-1)]: Using backend LokyBackend with 8 concurrent workers.\n",
      "[Parallel(n_jobs=-1)]: Done   6 out of  10 | elapsed:    0.0s remaining:    0.0s\n",
      "[Parallel(n_jobs=-1)]: Done  10 out of  10 | elapsed:    0.0s finished\n",
      "[Parallel(n_jobs=-1)]: Using backend LokyBackend with 8 concurrent workers.\n"
     ]
    },
    {
     "name": "stdout",
     "output_type": "stream",
     "text": [
      "AUC scores computed using 5-fold cross-validation: [0.84543749 0.78520702 0.83619188 0.89538007 0.83764755]\n"
     ]
    },
    {
     "name": "stderr",
     "output_type": "stream",
     "text": [
      "[Parallel(n_jobs=-1)]: Done   6 out of  10 | elapsed:    0.0s remaining:    0.0s\n",
      "[Parallel(n_jobs=-1)]: Done  10 out of  10 | elapsed:    0.0s finished\n"
     ]
    }
   ],
   "source": [
    "# Import modules\n",
    "from sklearn.metrics import roc_auc_score\n",
    "from sklearn.model_selection import cross_val_score\n",
    "\n",
    "# Compute predicted probabilities: y_pred_prob\n",
    "y_pred_prob = pipeline_cv.predict_proba(X_test)[:,1]\n",
    "\n",
    "# Compute and print AUC score\n",
    "print(\"AUC: {}\".format(roc_auc_score(y_test, y_pred_prob)))\n",
    "\n",
    "# Compute cross-validated AUC scores: cv_auc\n",
    "cv_auc = cross_val_score(pipeline_cv, X2, y, cv=5, scoring='roc_auc')\n",
    "\n",
    "# Print list of AUC scores\n",
    "print(\"AUC scores computed using 5-fold cross-validation: {}\".format(cv_auc))"
   ]
  },
  {
   "cell_type": "markdown",
   "metadata": {},
   "source": [
    "## Results\n",
    "Our AUC is 85 percent, which is good. Accuracy is 74 percent (ratio of correctly predicted observations to the total observations). Given the accuracy, we believe the model false positives are a useful screening tool for evaluating the likelihood that Amazon or Walmart will find a particular country attractive to build a warehouse. "
   ]
  },
  {
   "cell_type": "markdown",
   "metadata": {},
   "source": [
    "### Comparing Predicted False Positives with Actual True Positives\n",
    "The following histogram grid shows the simulated sample mean distributions for the counties that returned false positives compared with all counties where there are actually warehouse locations. The overlap shows similarities across features."
   ]
  },
  {
   "cell_type": "code",
   "execution_count": 111,
   "metadata": {},
   "outputs": [],
   "source": [
    "data = pd.read_csv('retail_warehouses.csv', index_col=0)"
   ]
  },
  {
   "cell_type": "code",
   "execution_count": 112,
   "metadata": {},
   "outputs": [],
   "source": [
    "data['Log_pred'] = pipeline_cv.predict(X2)\n",
    "data['Log_probabilities'] = pipeline_cv.predict_proba(X2)[:,1]"
   ]
  },
  {
   "cell_type": "code",
   "execution_count": 113,
   "metadata": {},
   "outputs": [],
   "source": [
    "# Top 50 predicted false positives\n",
    "fp = data.sort_values('Log_probabilities',ascending=False).loc[(data.warehouse_target == 0) & (data.Log_pred == 1)].head(50)"
   ]
  },
  {
   "cell_type": "code",
   "execution_count": 103,
   "metadata": {},
   "outputs": [],
   "source": [
    "#list of 1000 replicates for each feature\n",
    "post_means = []\n",
    "for feature in hypothesis_cols:\n",
    "    wh_present = present[feature].values\n",
    "    fp_absent = fp[feature].values\n",
    "    \n",
    "    means_present = draw_bs_reps(wh_present, np.mean, 1000)\n",
    "    means_absent = draw_bs_reps(fp_absent, np.mean, 1000)\n",
    "    mean_set = (means_present, means_absent)\n",
    "    post_means.append(mean_set)"
   ]
  },
  {
   "cell_type": "code",
   "execution_count": 107,
   "metadata": {},
   "outputs": [
    {
     "data": {
      "image/png": "[encoded data removed]",
      "text/plain": [
       "<Figure size 1080x1080 with 20 Axes>"
      ]
     },
     "metadata": {
      "needs_background": "light"
     },
     "output_type": "display_data"
    }
   ],
   "source": [
    "def hist_plot_2():    \n",
    "    columns = list(hypothesis_cols.columns)\n",
    "    fig, axs = plt.subplots(5, 4,figsize=(15,15))\n",
    "\n",
    "    axs[0, 0].hist(post_means[0][0])\n",
    "    axs[0, 0].hist(post_means[0][1])\n",
    "    axs[0, 0].set_title(f'{columns[0]}')\n",
    "    axs[0, 1].hist(post_means[1][0])\n",
    "    axs[0, 1].hist(post_means[1][1])\n",
    "    axs[0, 1].set_title(f'{columns[1]}')\n",
    "    axs[0, 2].hist(post_means[2][0])\n",
    "    axs[0, 2].hist(post_means[2][1])\n",
    "    axs[0, 2].set_title(f'{columns[2]}')\n",
    "    axs[0, 3].hist(post_means[3][0])\n",
    "    axs[0, 3].hist(post_means[3][1])\n",
    "    axs[0, 3].set_title(f'{columns[3]}')\n",
    "    axs[1, 0].hist(post_means[4][0])\n",
    "    axs[1, 0].hist(post_means[4][1])\n",
    "    axs[1, 0].set_title(f'{columns[4]}')\n",
    "    axs[1, 1].hist(post_means[5][0])\n",
    "    axs[1, 1].hist(post_means[5][1])\n",
    "    axs[1, 1].set_title(f'{columns[5]}')\n",
    "    axs[1, 2].hist(post_means[6][0])\n",
    "    axs[1, 2].hist(post_means[6][1])\n",
    "    axs[1, 2].set_title(f'{columns[6]}')\n",
    "    axs[1, 3].hist(post_means[7][0])\n",
    "    axs[1, 3].hist(post_means[7][1])\n",
    "    axs[1, 3].set_title(f'{columns[7]}')\n",
    "    axs[2, 0].hist(post_means[8][0])\n",
    "    axs[2, 0].hist(post_means[8][1])\n",
    "    axs[2, 0].set_title(f'{columns[8]}')\n",
    "    axs[2, 1].hist(post_means[9][0])\n",
    "    axs[2, 1].hist(post_means[9][1])\n",
    "    axs[2, 1].set_title(f'{columns[9]}')\n",
    "    axs[2, 2].hist(post_means[10][0])\n",
    "    axs[2, 2].hist(post_means[10][1])\n",
    "    axs[2, 2].set_title(f'{columns[10]}')\n",
    "    axs[2, 3].hist(post_means[11][0])\n",
    "    axs[2, 3].hist(post_means[11][1])\n",
    "    axs[2, 3].set_title(f'{columns[11]}')\n",
    "    axs[3, 0].hist(post_means[12][0])\n",
    "    axs[3, 0].hist(post_means[12][1])\n",
    "    axs[3, 0].set_title(f'{columns[12]}')\n",
    "    axs[3, 1].hist(post_means[13][0])\n",
    "    axs[3, 1].hist(post_means[13][1])\n",
    "    axs[3, 1].set_title(f'{columns[13]}')\n",
    "    axs[3, 2].hist(post_means[14][0])\n",
    "    axs[3, 2].hist(post_means[14][1])\n",
    "    axs[3, 2].set_title(f'{columns[14]}')\n",
    "    axs[3, 3].hist(post_means[15][0])\n",
    "    axs[3, 3].hist(post_means[15][1])\n",
    "    axs[3, 3].set_title(f'{columns[15]}')\n",
    "    axs[4, 0].hist(post_means[16][0])\n",
    "    axs[4, 0].hist(post_means[16][1])\n",
    "    axs[4, 0].set_title(f'{columns[16]}')\n",
    "    # axs[4, 1].hist(post_means[17][0])\n",
    "    # axs[4, 1].hist(post_means[17][1])\n",
    "    # axs[4, 1].set_title(f'{columns[17]}')\n",
    "    # axs[4, 2].hist(post_means[18][0])\n",
    "    # axs[4, 2].hist(post_means[18][1])\n",
    "    # axs[4, 2].set_title(f'{columns[18]}')\n",
    "    # axs[4, 3].hist(post_means[19][0])\n",
    "    # axs[4, 3].hist(post_means[19][1])\n",
    "    # axs[4, 3].set_title(f'{columns[19]}')\n",
    "    for ax in axs.flat:\n",
    "        ax.set(xlabel='', ylabel='frequency')\n",
    "    # Hide x labels and tick labels for top plots and y ticks for right plots.\n",
    "    for ax in axs.flat:\n",
    "        ax.label_outer()\n",
    "    return fig, axs\n",
    "\n",
    "try:\n",
    "    hist_plot_2()\n",
    "except IndexError:\n",
    "    pass"
   ]
  },
  {
   "cell_type": "code",
   "execution_count": null,
   "metadata": {},
   "outputs": [],
   "source": []
  }
 ],
 "metadata": {
  "kernelspec": {
   "display_name": "Python 3",
   "language": "python",
   "name": "python3"
  },
  "language_info": {
   "codemirror_mode": {
    "name": "ipython",
    "version": 3
   },
   "file_extension": ".py",
   "mimetype": "text/x-python",
   "name": "python",
   "nbconvert_exporter": "python",
   "pygments_lexer": "ipython3",
   "version": "3.6.9"
  }
 },
 "nbformat": 4,
 "nbformat_minor": 2
}
